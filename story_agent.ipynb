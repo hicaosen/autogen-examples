{
 "cells": [
  {
   "cell_type": "code",
   "execution_count": 23,
   "id": "ac03f082",
   "metadata": {},
   "outputs": [
    {
     "name": "stdout",
     "output_type": "stream",
     "text": [
      "Defaulting to user installation because normal site-packages is not writeable\n",
      "Requirement already satisfied: autogen-agentchat in /home/vscode/.local/lib/python3.12/site-packages (0.5.7)\n",
      "Requirement already satisfied: python-dotenv in /home/vscode/.local/lib/python3.12/site-packages (1.1.0)\n",
      "Requirement already satisfied: autogen-ext[openai] in /home/vscode/.local/lib/python3.12/site-packages (0.5.7)\n",
      "Requirement already satisfied: autogen-core==0.5.7 in /home/vscode/.local/lib/python3.12/site-packages (from autogen-agentchat) (0.5.7)\n",
      "Requirement already satisfied: jsonref~=1.1.0 in /home/vscode/.local/lib/python3.12/site-packages (from autogen-core==0.5.7->autogen-agentchat) (1.1.0)\n",
      "Requirement already satisfied: opentelemetry-api>=1.27.0 in /home/vscode/.local/lib/python3.12/site-packages (from autogen-core==0.5.7->autogen-agentchat) (1.33.1)\n",
      "Requirement already satisfied: pillow>=11.0.0 in /home/vscode/.local/lib/python3.12/site-packages (from autogen-core==0.5.7->autogen-agentchat) (11.2.1)\n",
      "Requirement already satisfied: protobuf~=5.29.3 in /home/vscode/.local/lib/python3.12/site-packages (from autogen-core==0.5.7->autogen-agentchat) (5.29.4)\n",
      "Requirement already satisfied: pydantic<3.0.0,>=2.10.0 in /home/vscode/.local/lib/python3.12/site-packages (from autogen-core==0.5.7->autogen-agentchat) (2.11.5)\n",
      "Requirement already satisfied: typing-extensions>=4.0.0 in /home/vscode/.local/lib/python3.12/site-packages (from autogen-core==0.5.7->autogen-agentchat) (4.13.2)\n",
      "Requirement already satisfied: aiofiles in /home/vscode/.local/lib/python3.12/site-packages (from autogen-ext[openai]) (24.1.0)\n",
      "Requirement already satisfied: openai>=1.66.5 in /home/vscode/.local/lib/python3.12/site-packages (from autogen-ext[openai]) (1.82.0)\n",
      "Requirement already satisfied: tiktoken>=0.8.0 in /home/vscode/.local/lib/python3.12/site-packages (from autogen-ext[openai]) (0.9.0)\n",
      "Requirement already satisfied: anyio<5,>=3.5.0 in /home/vscode/.local/lib/python3.12/site-packages (from openai>=1.66.5->autogen-ext[openai]) (4.9.0)\n",
      "Requirement already satisfied: distro<2,>=1.7.0 in /home/vscode/.local/lib/python3.12/site-packages (from openai>=1.66.5->autogen-ext[openai]) (1.9.0)\n",
      "Requirement already satisfied: httpx<1,>=0.23.0 in /home/vscode/.local/lib/python3.12/site-packages (from openai>=1.66.5->autogen-ext[openai]) (0.28.1)\n",
      "Requirement already satisfied: jiter<1,>=0.4.0 in /home/vscode/.local/lib/python3.12/site-packages (from openai>=1.66.5->autogen-ext[openai]) (0.10.0)\n",
      "Requirement already satisfied: sniffio in /home/vscode/.local/lib/python3.12/site-packages (from openai>=1.66.5->autogen-ext[openai]) (1.3.1)\n",
      "Requirement already satisfied: tqdm>4 in /home/vscode/.local/lib/python3.12/site-packages (from openai>=1.66.5->autogen-ext[openai]) (4.67.1)\n",
      "Requirement already satisfied: regex>=2022.1.18 in /home/vscode/.local/lib/python3.12/site-packages (from tiktoken>=0.8.0->autogen-ext[openai]) (2024.11.6)\n",
      "Requirement already satisfied: requests>=2.26.0 in /home/vscode/.local/lib/python3.12/site-packages (from tiktoken>=0.8.0->autogen-ext[openai]) (2.32.3)\n",
      "Requirement already satisfied: idna>=2.8 in /home/vscode/.local/lib/python3.12/site-packages (from anyio<5,>=3.5.0->openai>=1.66.5->autogen-ext[openai]) (3.10)\n",
      "Requirement already satisfied: certifi in /home/vscode/.local/lib/python3.12/site-packages (from httpx<1,>=0.23.0->openai>=1.66.5->autogen-ext[openai]) (2025.4.26)\n",
      "Requirement already satisfied: httpcore==1.* in /home/vscode/.local/lib/python3.12/site-packages (from httpx<1,>=0.23.0->openai>=1.66.5->autogen-ext[openai]) (1.0.9)\n",
      "Requirement already satisfied: h11>=0.16 in /home/vscode/.local/lib/python3.12/site-packages (from httpcore==1.*->httpx<1,>=0.23.0->openai>=1.66.5->autogen-ext[openai]) (0.16.0)\n",
      "Requirement already satisfied: deprecated>=1.2.6 in /home/vscode/.local/lib/python3.12/site-packages (from opentelemetry-api>=1.27.0->autogen-core==0.5.7->autogen-agentchat) (1.2.18)\n",
      "Requirement already satisfied: importlib-metadata<8.7.0,>=6.0 in /home/vscode/.local/lib/python3.12/site-packages (from opentelemetry-api>=1.27.0->autogen-core==0.5.7->autogen-agentchat) (8.6.1)\n",
      "Requirement already satisfied: annotated-types>=0.6.0 in /home/vscode/.local/lib/python3.12/site-packages (from pydantic<3.0.0,>=2.10.0->autogen-core==0.5.7->autogen-agentchat) (0.7.0)\n",
      "Requirement already satisfied: pydantic-core==2.33.2 in /home/vscode/.local/lib/python3.12/site-packages (from pydantic<3.0.0,>=2.10.0->autogen-core==0.5.7->autogen-agentchat) (2.33.2)\n",
      "Requirement already satisfied: typing-inspection>=0.4.0 in /home/vscode/.local/lib/python3.12/site-packages (from pydantic<3.0.0,>=2.10.0->autogen-core==0.5.7->autogen-agentchat) (0.4.1)\n",
      "Requirement already satisfied: charset-normalizer<4,>=2 in /home/vscode/.local/lib/python3.12/site-packages (from requests>=2.26.0->tiktoken>=0.8.0->autogen-ext[openai]) (3.4.2)\n",
      "Requirement already satisfied: urllib3<3,>=1.21.1 in /home/vscode/.local/lib/python3.12/site-packages (from requests>=2.26.0->tiktoken>=0.8.0->autogen-ext[openai]) (2.4.0)\n",
      "Requirement already satisfied: wrapt<2,>=1.10 in /home/vscode/.local/lib/python3.12/site-packages (from deprecated>=1.2.6->opentelemetry-api>=1.27.0->autogen-core==0.5.7->autogen-agentchat) (1.17.2)\n",
      "Requirement already satisfied: zipp>=3.20 in /home/vscode/.local/lib/python3.12/site-packages (from importlib-metadata<8.7.0,>=6.0->opentelemetry-api>=1.27.0->autogen-core==0.5.7->autogen-agentchat) (3.22.0)\n",
      "\n",
      "\u001b[1m[\u001b[0m\u001b[34;49mnotice\u001b[0m\u001b[1;39;49m]\u001b[0m\u001b[39;49m A new release of pip is available: \u001b[0m\u001b[31;49m25.0.1\u001b[0m\u001b[39;49m -> \u001b[0m\u001b[32;49m25.1.1\u001b[0m\n",
      "\u001b[1m[\u001b[0m\u001b[34;49mnotice\u001b[0m\u001b[1;39;49m]\u001b[0m\u001b[39;49m To update, run: \u001b[0m\u001b[32;49mpip install --upgrade pip\u001b[0m\n",
      "Note: you may need to restart the kernel to use updated packages.\n"
     ]
    }
   ],
   "source": [
    "%pip install -U \"autogen-agentchat\" \"autogen-ext[openai]\" \"python-dotenv\""
   ]
  },
  {
   "cell_type": "code",
   "execution_count": 24,
   "id": "bad1c89a",
   "metadata": {},
   "outputs": [],
   "source": [
    "import os\n",
    "import logging\n",
    "from dotenv import load_dotenv\n",
    "from autogen_core import EVENT_LOGGER_NAME\n",
    "from autogen_core.models import ModelFamily\n",
    "from autogen_agentchat.agents import AssistantAgent\n",
    "from autogen_agentchat.base import TaskResult\n",
    "from autogen_ext.models.openai import OpenAIChatCompletionClient\n",
    "from autogen_agentchat.conditions import TextMentionTermination\n",
    "from autogen_agentchat.teams import RoundRobinGroupChat\n",
    "from autogen_agentchat.ui import Console"
   ]
  },
  {
   "cell_type": "code",
   "execution_count": 25,
   "id": "033dee23",
   "metadata": {},
   "outputs": [],
   "source": [
    "logging.basicConfig(level=logging.WARNING)\n",
    "logger = logging.getLogger(EVENT_LOGGER_NAME)\n",
    "logger.addHandler(logging.StreamHandler())\n",
    "logger.setLevel(logging.INFO)"
   ]
  },
  {
   "cell_type": "code",
   "execution_count": 26,
   "id": "e06ad029",
   "metadata": {},
   "outputs": [],
   "source": [
    "load_dotenv()\n",
    "model_client = OpenAIChatCompletionClient(\n",
    "    base_url=os.getenv(\"BASE_URL\"),\n",
    "    api_key=os.getenv(\"API_KEY\"),\n",
    "    model=os.getenv(\"MODEL\"),\n",
    "    model_info={\n",
    "        \"vision\":False,\n",
    "        \"json_output\":False,\n",
    "        \"function_calling\":False,\n",
    "        \"family\":ModelFamily.UNKNOWN,\n",
    "        \"structured_output\":False\n",
    "    }\n",
    "\n",
    ")"
   ]
  },
  {
   "cell_type": "code",
   "execution_count": 27,
   "id": "6a33680f",
   "metadata": {},
   "outputs": [],
   "source": [
    "primary_agent = AssistantAgent(\n",
    "    name=\"primary\",\n",
    "    model_client=model_client,\n",
    "    system_message=\"你是一个超级有用的助手。\"\n",
    ")"
   ]
  },
  {
   "cell_type": "code",
   "execution_count": 28,
   "id": "9974e7c0",
   "metadata": {},
   "outputs": [],
   "source": [
    "critic_agent = AssistantAgent(\n",
    "    name=\"critic\",\n",
    "    model_client=model_client,\n",
    "    system_message=\"提供建设性的反馈。当你的反馈得到解决时，请回复\\\"APPROVE\\\"\"\n",
    "\n",
    ")"
   ]
  },
  {
   "cell_type": "code",
   "execution_count": 29,
   "id": "81a7cb79",
   "metadata": {},
   "outputs": [],
   "source": [
    "text_termination = TextMentionTermination(\"APPROVE\")\n",
    "team = RoundRobinGroupChat(\n",
    "    [primary_agent, critic_agent],\n",
    "    termination_condition=text_termination\n",
    ")"
   ]
  },
  {
   "cell_type": "code",
   "execution_count": null,
   "id": "211dd463",
   "metadata": {},
   "outputs": [
    {
     "name": "stderr",
     "output_type": "stream",
     "text": [
      "{\"payload\": \"{\\\"messages\\\":[{\\\"source\\\":\\\"user\\\",\\\"models_usage\\\":null,\\\"metadata\\\":{}}]}\", \"sender\": null, \"receiver\": \"RoundRobinGroupChatManager_420844e9-f5f6-4dcc-ad8e-2e221efd7775/420844e9-f5f6-4dcc-ad8e-2e221efd7775\", \"kind\": \"MessageKind.DIRECT\", \"delivery_stage\": \"DeliveryStage.SEND\", \"type\": \"Message\"}\n",
      "{\"payload\": \"{\\\"messages\\\":[{\\\"source\\\":\\\"user\\\",\\\"models_usage\\\":null,\\\"metadata\\\":{}}]}\", \"sender\": null, \"receiver\": \"RoundRobinGroupChatManager_420844e9-f5f6-4dcc-ad8e-2e221efd7775/420844e9-f5f6-4dcc-ad8e-2e221efd7775\", \"kind\": \"MessageKind.DIRECT\", \"delivery_stage\": \"DeliveryStage.SEND\", \"type\": \"Message\"}\n",
      "{\"payload\": \"{\\\"messages\\\":[{\\\"source\\\":\\\"user\\\",\\\"models_usage\\\":null,\\\"metadata\\\":{}}]}\", \"sender\": null, \"receiver\": \"RoundRobinGroupChatManager_420844e9-f5f6-4dcc-ad8e-2e221efd7775/420844e9-f5f6-4dcc-ad8e-2e221efd7775\", \"kind\": \"MessageKind.DIRECT\", \"delivery_stage\": \"DeliveryStage.SEND\", \"type\": \"Message\"}\n",
      "INFO:autogen_core.events:{\"payload\": \"{\\\"messages\\\":[{\\\"source\\\":\\\"user\\\",\\\"models_usage\\\":null,\\\"metadata\\\":{}}]}\", \"sender\": null, \"receiver\": \"RoundRobinGroupChatManager_420844e9-f5f6-4dcc-ad8e-2e221efd7775/420844e9-f5f6-4dcc-ad8e-2e221efd7775\", \"kind\": \"MessageKind.DIRECT\", \"delivery_stage\": \"DeliveryStage.SEND\", \"type\": \"Message\"}\n",
      "{\"payload\": \"{\\\"messages\\\":[{\\\"source\\\":\\\"user\\\",\\\"models_usage\\\":null,\\\"metadata\\\":{}}]}\", \"sender\": null, \"receiver\": \"RoundRobinGroupChatManager_420844e9-f5f6-4dcc-ad8e-2e221efd7775/420844e9-f5f6-4dcc-ad8e-2e221efd7775\", \"kind\": \"MessageKind.DIRECT\", \"delivery_stage\": \"DeliveryStage.DELIVER\", \"type\": \"Message\"}\n",
      "{\"payload\": \"{\\\"messages\\\":[{\\\"source\\\":\\\"user\\\",\\\"models_usage\\\":null,\\\"metadata\\\":{}}]}\", \"sender\": null, \"receiver\": \"RoundRobinGroupChatManager_420844e9-f5f6-4dcc-ad8e-2e221efd7775/420844e9-f5f6-4dcc-ad8e-2e221efd7775\", \"kind\": \"MessageKind.DIRECT\", \"delivery_stage\": \"DeliveryStage.DELIVER\", \"type\": \"Message\"}\n",
      "{\"payload\": \"{\\\"messages\\\":[{\\\"source\\\":\\\"user\\\",\\\"models_usage\\\":null,\\\"metadata\\\":{}}]}\", \"sender\": null, \"receiver\": \"RoundRobinGroupChatManager_420844e9-f5f6-4dcc-ad8e-2e221efd7775/420844e9-f5f6-4dcc-ad8e-2e221efd7775\", \"kind\": \"MessageKind.DIRECT\", \"delivery_stage\": \"DeliveryStage.DELIVER\", \"type\": \"Message\"}\n",
      "INFO:autogen_core.events:{\"payload\": \"{\\\"messages\\\":[{\\\"source\\\":\\\"user\\\",\\\"models_usage\\\":null,\\\"metadata\\\":{}}]}\", \"sender\": null, \"receiver\": \"RoundRobinGroupChatManager_420844e9-f5f6-4dcc-ad8e-2e221efd7775/420844e9-f5f6-4dcc-ad8e-2e221efd7775\", \"kind\": \"MessageKind.DIRECT\", \"delivery_stage\": \"DeliveryStage.DELIVER\", \"type\": \"Message\"}\n",
      "{\"payload\": \"{\\\"messages\\\":[{\\\"source\\\":\\\"user\\\",\\\"models_usage\\\":null,\\\"metadata\\\":{}}]}\", \"sender\": \"RoundRobinGroupChatManager_420844e9-f5f6-4dcc-ad8e-2e221efd7775/420844e9-f5f6-4dcc-ad8e-2e221efd7775\", \"receiver\": \"output_topic_420844e9-f5f6-4dcc-ad8e-2e221efd7775/420844e9-f5f6-4dcc-ad8e-2e221efd7775\", \"kind\": \"MessageKind.PUBLISH\", \"delivery_stage\": \"DeliveryStage.SEND\", \"type\": \"Message\"}\n",
      "{\"payload\": \"{\\\"messages\\\":[{\\\"source\\\":\\\"user\\\",\\\"models_usage\\\":null,\\\"metadata\\\":{}}]}\", \"sender\": \"RoundRobinGroupChatManager_420844e9-f5f6-4dcc-ad8e-2e221efd7775/420844e9-f5f6-4dcc-ad8e-2e221efd7775\", \"receiver\": \"output_topic_420844e9-f5f6-4dcc-ad8e-2e221efd7775/420844e9-f5f6-4dcc-ad8e-2e221efd7775\", \"kind\": \"MessageKind.PUBLISH\", \"delivery_stage\": \"DeliveryStage.SEND\", \"type\": \"Message\"}\n",
      "{\"payload\": \"{\\\"messages\\\":[{\\\"source\\\":\\\"user\\\",\\\"models_usage\\\":null,\\\"metadata\\\":{}}]}\", \"sender\": \"RoundRobinGroupChatManager_420844e9-f5f6-4dcc-ad8e-2e221efd7775/420844e9-f5f6-4dcc-ad8e-2e221efd7775\", \"receiver\": \"output_topic_420844e9-f5f6-4dcc-ad8e-2e221efd7775/420844e9-f5f6-4dcc-ad8e-2e221efd7775\", \"kind\": \"MessageKind.PUBLISH\", \"delivery_stage\": \"DeliveryStage.SEND\", \"type\": \"Message\"}\n",
      "INFO:autogen_core.events:{\"payload\": \"{\\\"messages\\\":[{\\\"source\\\":\\\"user\\\",\\\"models_usage\\\":null,\\\"metadata\\\":{}}]}\", \"sender\": \"RoundRobinGroupChatManager_420844e9-f5f6-4dcc-ad8e-2e221efd7775/420844e9-f5f6-4dcc-ad8e-2e221efd7775\", \"receiver\": \"output_topic_420844e9-f5f6-4dcc-ad8e-2e221efd7775/420844e9-f5f6-4dcc-ad8e-2e221efd7775\", \"kind\": \"MessageKind.PUBLISH\", \"delivery_stage\": \"DeliveryStage.SEND\", \"type\": \"Message\"}\n",
      "{\"payload\": \"{\\\"messages\\\":[{\\\"source\\\":\\\"user\\\",\\\"models_usage\\\":null,\\\"metadata\\\":{}}]}\", \"sender\": \"RoundRobinGroupChatManager_420844e9-f5f6-4dcc-ad8e-2e221efd7775/420844e9-f5f6-4dcc-ad8e-2e221efd7775\", \"receiver\": \"group_topic_420844e9-f5f6-4dcc-ad8e-2e221efd7775/420844e9-f5f6-4dcc-ad8e-2e221efd7775\", \"kind\": \"MessageKind.PUBLISH\", \"delivery_stage\": \"DeliveryStage.SEND\", \"type\": \"Message\"}\n",
      "{\"payload\": \"{\\\"messages\\\":[{\\\"source\\\":\\\"user\\\",\\\"models_usage\\\":null,\\\"metadata\\\":{}}]}\", \"sender\": \"RoundRobinGroupChatManager_420844e9-f5f6-4dcc-ad8e-2e221efd7775/420844e9-f5f6-4dcc-ad8e-2e221efd7775\", \"receiver\": \"group_topic_420844e9-f5f6-4dcc-ad8e-2e221efd7775/420844e9-f5f6-4dcc-ad8e-2e221efd7775\", \"kind\": \"MessageKind.PUBLISH\", \"delivery_stage\": \"DeliveryStage.SEND\", \"type\": \"Message\"}\n",
      "{\"payload\": \"{\\\"messages\\\":[{\\\"source\\\":\\\"user\\\",\\\"models_usage\\\":null,\\\"metadata\\\":{}}]}\", \"sender\": \"RoundRobinGroupChatManager_420844e9-f5f6-4dcc-ad8e-2e221efd7775/420844e9-f5f6-4dcc-ad8e-2e221efd7775\", \"receiver\": \"group_topic_420844e9-f5f6-4dcc-ad8e-2e221efd7775/420844e9-f5f6-4dcc-ad8e-2e221efd7775\", \"kind\": \"MessageKind.PUBLISH\", \"delivery_stage\": \"DeliveryStage.SEND\", \"type\": \"Message\"}\n",
      "INFO:autogen_core.events:{\"payload\": \"{\\\"messages\\\":[{\\\"source\\\":\\\"user\\\",\\\"models_usage\\\":null,\\\"metadata\\\":{}}]}\", \"sender\": \"RoundRobinGroupChatManager_420844e9-f5f6-4dcc-ad8e-2e221efd7775/420844e9-f5f6-4dcc-ad8e-2e221efd7775\", \"receiver\": \"group_topic_420844e9-f5f6-4dcc-ad8e-2e221efd7775/420844e9-f5f6-4dcc-ad8e-2e221efd7775\", \"kind\": \"MessageKind.PUBLISH\", \"delivery_stage\": \"DeliveryStage.SEND\", \"type\": \"Message\"}\n",
      "{\"payload\": \"{}\", \"sender\": \"RoundRobinGroupChatManager_420844e9-f5f6-4dcc-ad8e-2e221efd7775/420844e9-f5f6-4dcc-ad8e-2e221efd7775\", \"receiver\": \"primary_420844e9-f5f6-4dcc-ad8e-2e221efd7775/420844e9-f5f6-4dcc-ad8e-2e221efd7775\", \"kind\": \"MessageKind.PUBLISH\", \"delivery_stage\": \"DeliveryStage.SEND\", \"type\": \"Message\"}\n",
      "{\"payload\": \"{}\", \"sender\": \"RoundRobinGroupChatManager_420844e9-f5f6-4dcc-ad8e-2e221efd7775/420844e9-f5f6-4dcc-ad8e-2e221efd7775\", \"receiver\": \"primary_420844e9-f5f6-4dcc-ad8e-2e221efd7775/420844e9-f5f6-4dcc-ad8e-2e221efd7775\", \"kind\": \"MessageKind.PUBLISH\", \"delivery_stage\": \"DeliveryStage.SEND\", \"type\": \"Message\"}\n",
      "{\"payload\": \"{}\", \"sender\": \"RoundRobinGroupChatManager_420844e9-f5f6-4dcc-ad8e-2e221efd7775/420844e9-f5f6-4dcc-ad8e-2e221efd7775\", \"receiver\": \"primary_420844e9-f5f6-4dcc-ad8e-2e221efd7775/420844e9-f5f6-4dcc-ad8e-2e221efd7775\", \"kind\": \"MessageKind.PUBLISH\", \"delivery_stage\": \"DeliveryStage.SEND\", \"type\": \"Message\"}\n",
      "INFO:autogen_core.events:{\"payload\": \"{}\", \"sender\": \"RoundRobinGroupChatManager_420844e9-f5f6-4dcc-ad8e-2e221efd7775/420844e9-f5f6-4dcc-ad8e-2e221efd7775\", \"receiver\": \"primary_420844e9-f5f6-4dcc-ad8e-2e221efd7775/420844e9-f5f6-4dcc-ad8e-2e221efd7775\", \"kind\": \"MessageKind.PUBLISH\", \"delivery_stage\": \"DeliveryStage.SEND\", \"type\": \"Message\"}\n",
      "{\"payload\": \"Message could not be serialized\", \"sender\": \"RoundRobinGroupChatManager_420844e9-f5f6-4dcc-ad8e-2e221efd7775/420844e9-f5f6-4dcc-ad8e-2e221efd7775\", \"receiver\": null, \"kind\": \"MessageKind.RESPOND\", \"delivery_stage\": \"DeliveryStage.SEND\", \"type\": \"Message\"}\n",
      "{\"payload\": \"Message could not be serialized\", \"sender\": \"RoundRobinGroupChatManager_420844e9-f5f6-4dcc-ad8e-2e221efd7775/420844e9-f5f6-4dcc-ad8e-2e221efd7775\", \"receiver\": null, \"kind\": \"MessageKind.RESPOND\", \"delivery_stage\": \"DeliveryStage.SEND\", \"type\": \"Message\"}\n",
      "{\"payload\": \"Message could not be serialized\", \"sender\": \"RoundRobinGroupChatManager_420844e9-f5f6-4dcc-ad8e-2e221efd7775/420844e9-f5f6-4dcc-ad8e-2e221efd7775\", \"receiver\": null, \"kind\": \"MessageKind.RESPOND\", \"delivery_stage\": \"DeliveryStage.SEND\", \"type\": \"Message\"}\n",
      "INFO:autogen_core.events:{\"payload\": \"Message could not be serialized\", \"sender\": \"RoundRobinGroupChatManager_420844e9-f5f6-4dcc-ad8e-2e221efd7775/420844e9-f5f6-4dcc-ad8e-2e221efd7775\", \"receiver\": null, \"kind\": \"MessageKind.RESPOND\", \"delivery_stage\": \"DeliveryStage.SEND\", \"type\": \"Message\"}\n",
      "{\"payload\": \"{\\\"messages\\\":[{\\\"source\\\":\\\"user\\\",\\\"models_usage\\\":null,\\\"metadata\\\":{}}]}\", \"sender\": \"RoundRobinGroupChatManager_420844e9-f5f6-4dcc-ad8e-2e221efd7775/420844e9-f5f6-4dcc-ad8e-2e221efd7775\", \"receiver\": null, \"kind\": \"MessageKind.PUBLISH\", \"delivery_stage\": \"DeliveryStage.DELIVER\", \"type\": \"Message\"}\n",
      "{\"payload\": \"{\\\"messages\\\":[{\\\"source\\\":\\\"user\\\",\\\"models_usage\\\":null,\\\"metadata\\\":{}}]}\", \"sender\": \"RoundRobinGroupChatManager_420844e9-f5f6-4dcc-ad8e-2e221efd7775/420844e9-f5f6-4dcc-ad8e-2e221efd7775\", \"receiver\": null, \"kind\": \"MessageKind.PUBLISH\", \"delivery_stage\": \"DeliveryStage.DELIVER\", \"type\": \"Message\"}\n",
      "{\"payload\": \"{\\\"messages\\\":[{\\\"source\\\":\\\"user\\\",\\\"models_usage\\\":null,\\\"metadata\\\":{}}]}\", \"sender\": \"RoundRobinGroupChatManager_420844e9-f5f6-4dcc-ad8e-2e221efd7775/420844e9-f5f6-4dcc-ad8e-2e221efd7775\", \"receiver\": null, \"kind\": \"MessageKind.PUBLISH\", \"delivery_stage\": \"DeliveryStage.DELIVER\", \"type\": \"Message\"}\n",
      "INFO:autogen_core.events:{\"payload\": \"{\\\"messages\\\":[{\\\"source\\\":\\\"user\\\",\\\"models_usage\\\":null,\\\"metadata\\\":{}}]}\", \"sender\": \"RoundRobinGroupChatManager_420844e9-f5f6-4dcc-ad8e-2e221efd7775/420844e9-f5f6-4dcc-ad8e-2e221efd7775\", \"receiver\": null, \"kind\": \"MessageKind.PUBLISH\", \"delivery_stage\": \"DeliveryStage.DELIVER\", \"type\": \"Message\"}\n",
      "{\"payload\": \"{\\\"messages\\\":[{\\\"source\\\":\\\"user\\\",\\\"models_usage\\\":null,\\\"metadata\\\":{}}]}\", \"sender\": \"RoundRobinGroupChatManager_420844e9-f5f6-4dcc-ad8e-2e221efd7775/420844e9-f5f6-4dcc-ad8e-2e221efd7775\", \"receiver\": null, \"kind\": \"MessageKind.PUBLISH\", \"delivery_stage\": \"DeliveryStage.DELIVER\", \"type\": \"Message\"}\n",
      "{\"payload\": \"{\\\"messages\\\":[{\\\"source\\\":\\\"user\\\",\\\"models_usage\\\":null,\\\"metadata\\\":{}}]}\", \"sender\": \"RoundRobinGroupChatManager_420844e9-f5f6-4dcc-ad8e-2e221efd7775/420844e9-f5f6-4dcc-ad8e-2e221efd7775\", \"receiver\": null, \"kind\": \"MessageKind.PUBLISH\", \"delivery_stage\": \"DeliveryStage.DELIVER\", \"type\": \"Message\"}\n",
      "{\"payload\": \"{\\\"messages\\\":[{\\\"source\\\":\\\"user\\\",\\\"models_usage\\\":null,\\\"metadata\\\":{}}]}\", \"sender\": \"RoundRobinGroupChatManager_420844e9-f5f6-4dcc-ad8e-2e221efd7775/420844e9-f5f6-4dcc-ad8e-2e221efd7775\", \"receiver\": null, \"kind\": \"MessageKind.PUBLISH\", \"delivery_stage\": \"DeliveryStage.DELIVER\", \"type\": \"Message\"}\n",
      "INFO:autogen_core.events:{\"payload\": \"{\\\"messages\\\":[{\\\"source\\\":\\\"user\\\",\\\"models_usage\\\":null,\\\"metadata\\\":{}}]}\", \"sender\": \"RoundRobinGroupChatManager_420844e9-f5f6-4dcc-ad8e-2e221efd7775/420844e9-f5f6-4dcc-ad8e-2e221efd7775\", \"receiver\": null, \"kind\": \"MessageKind.PUBLISH\", \"delivery_stage\": \"DeliveryStage.DELIVER\", \"type\": \"Message\"}\n",
      "{\"payload\": \"{}\", \"sender\": \"RoundRobinGroupChatManager_420844e9-f5f6-4dcc-ad8e-2e221efd7775/420844e9-f5f6-4dcc-ad8e-2e221efd7775\", \"receiver\": null, \"kind\": \"MessageKind.PUBLISH\", \"delivery_stage\": \"DeliveryStage.DELIVER\", \"type\": \"Message\"}\n",
      "{\"payload\": \"{}\", \"sender\": \"RoundRobinGroupChatManager_420844e9-f5f6-4dcc-ad8e-2e221efd7775/420844e9-f5f6-4dcc-ad8e-2e221efd7775\", \"receiver\": null, \"kind\": \"MessageKind.PUBLISH\", \"delivery_stage\": \"DeliveryStage.DELIVER\", \"type\": \"Message\"}\n",
      "{\"payload\": \"{}\", \"sender\": \"RoundRobinGroupChatManager_420844e9-f5f6-4dcc-ad8e-2e221efd7775/420844e9-f5f6-4dcc-ad8e-2e221efd7775\", \"receiver\": null, \"kind\": \"MessageKind.PUBLISH\", \"delivery_stage\": \"DeliveryStage.DELIVER\", \"type\": \"Message\"}\n",
      "INFO:autogen_core.events:{\"payload\": \"{}\", \"sender\": \"RoundRobinGroupChatManager_420844e9-f5f6-4dcc-ad8e-2e221efd7775/420844e9-f5f6-4dcc-ad8e-2e221efd7775\", \"receiver\": null, \"kind\": \"MessageKind.PUBLISH\", \"delivery_stage\": \"DeliveryStage.DELIVER\", \"type\": \"Message\"}\n",
      "{\"payload\": \"Message could not be serialized\", \"sender\": \"RoundRobinGroupChatManager_420844e9-f5f6-4dcc-ad8e-2e221efd7775/420844e9-f5f6-4dcc-ad8e-2e221efd7775\", \"receiver\": null, \"kind\": \"MessageKind.RESPOND\", \"delivery_stage\": \"DeliveryStage.DELIVER\", \"type\": \"Message\"}\n",
      "{\"payload\": \"Message could not be serialized\", \"sender\": \"RoundRobinGroupChatManager_420844e9-f5f6-4dcc-ad8e-2e221efd7775/420844e9-f5f6-4dcc-ad8e-2e221efd7775\", \"receiver\": null, \"kind\": \"MessageKind.RESPOND\", \"delivery_stage\": \"DeliveryStage.DELIVER\", \"type\": \"Message\"}\n",
      "{\"payload\": \"Message could not be serialized\", \"sender\": \"RoundRobinGroupChatManager_420844e9-f5f6-4dcc-ad8e-2e221efd7775/420844e9-f5f6-4dcc-ad8e-2e221efd7775\", \"receiver\": null, \"kind\": \"MessageKind.RESPOND\", \"delivery_stage\": \"DeliveryStage.DELIVER\", \"type\": \"Message\"}\n",
      "INFO:autogen_core.events:{\"payload\": \"Message could not be serialized\", \"sender\": \"RoundRobinGroupChatManager_420844e9-f5f6-4dcc-ad8e-2e221efd7775/420844e9-f5f6-4dcc-ad8e-2e221efd7775\", \"receiver\": null, \"kind\": \"MessageKind.RESPOND\", \"delivery_stage\": \"DeliveryStage.DELIVER\", \"type\": \"Message\"}\n"
     ]
    },
    {
     "name": "stdout",
     "output_type": "stream",
     "text": [
      "---------- TextMessage (user) ----------\n",
      "写一首关于春天的诗。\n"
     ]
    },
    {
     "name": "stderr",
     "output_type": "stream",
     "text": [
      "{\"type\": \"LLMCall\", \"messages\": [{\"content\": \"\\u4f60\\u662f\\u4e00\\u4e2a\\u8d85\\u7ea7\\u6709\\u7528\\u7684\\u52a9\\u624b\\u3002\", \"role\": \"system\"}, {\"role\": \"user\", \"name\": \"user\", \"content\": \"\\u5199\\u4e00\\u9996\\u5173\\u4e8e\\u6625\\u5929\\u7684\\u8bd7\\u3002\"}], \"response\": {\"id\": \"890b68f3-f08f-437d-932a-a90102a0bd62\", \"choices\": [{\"finish_reason\": \"stop\", \"index\": 0, \"logprobs\": null, \"message\": {\"content\": \"\\u300a\\u4e09\\u6708\\u7684\\u4fe1\\u7b3a\\u300b\\n\\n\\n\\u4e1c\\u98ce\\u89e3\\u5f00\\u51b0\\u7684\\u7ef3\\u7ed3\\uff0c\\n\\u628a\\u6574\\u5b63\\u7684\\u79c1\\u8bed\\uff0c\\n\\u6298\\u6210\\u67f3\\u53f6\\u7684\\u5f62\\u72b6\\u3002\\n\\n\\u6ce5\\u571f\\u6df1\\u5904\\uff0c\\n\\u86af\\u8693\\u5728\\u7ffb\\u8bd1\\uff0c\\n\\u51ac\\u5929\\u7559\\u4e0b\\u7684\\u5bc6\\u7801\\u3002\\n\\n\\u800c\\u6240\\u6709\\u7b49\\u5f85\\u7efd\\u653e\\u7684\\uff0c\\n\\u90fd\\u7b7e\\u6536\\u4e86\\uff0c\\n\\u9633\\u5149\\u7684\\u90ae\\u6233\\u3002\", \"refusal\": null, \"role\": \"assistant\", \"annotations\": null, \"audio\": null, \"function_call\": null, \"tool_calls\": null}}], \"created\": 1748416722, \"model\": \"deepseek-chat\", \"object\": \"chat.completion\", \"service_tier\": null, \"system_fingerprint\": \"fp_8802369eaa_prod0425fp8\", \"usage\": {\"completion_tokens\": 55, \"prompt_tokens\": 15, \"total_tokens\": 70, \"completion_tokens_details\": null, \"prompt_tokens_details\": {\"audio_tokens\": null, \"cached_tokens\": 0}, \"prompt_cache_hit_tokens\": 0, \"prompt_cache_miss_tokens\": 15}}, \"prompt_tokens\": 15, \"completion_tokens\": 55, \"agent_id\": \"primary_420844e9-f5f6-4dcc-ad8e-2e221efd7775/420844e9-f5f6-4dcc-ad8e-2e221efd7775\"}\n",
      "{\"type\": \"LLMCall\", \"messages\": [{\"content\": \"\\u4f60\\u662f\\u4e00\\u4e2a\\u8d85\\u7ea7\\u6709\\u7528\\u7684\\u52a9\\u624b\\u3002\", \"role\": \"system\"}, {\"role\": \"user\", \"name\": \"user\", \"content\": \"\\u5199\\u4e00\\u9996\\u5173\\u4e8e\\u6625\\u5929\\u7684\\u8bd7\\u3002\"}], \"response\": {\"id\": \"890b68f3-f08f-437d-932a-a90102a0bd62\", \"choices\": [{\"finish_reason\": \"stop\", \"index\": 0, \"logprobs\": null, \"message\": {\"content\": \"\\u300a\\u4e09\\u6708\\u7684\\u4fe1\\u7b3a\\u300b\\n\\n\\n\\u4e1c\\u98ce\\u89e3\\u5f00\\u51b0\\u7684\\u7ef3\\u7ed3\\uff0c\\n\\u628a\\u6574\\u5b63\\u7684\\u79c1\\u8bed\\uff0c\\n\\u6298\\u6210\\u67f3\\u53f6\\u7684\\u5f62\\u72b6\\u3002\\n\\n\\u6ce5\\u571f\\u6df1\\u5904\\uff0c\\n\\u86af\\u8693\\u5728\\u7ffb\\u8bd1\\uff0c\\n\\u51ac\\u5929\\u7559\\u4e0b\\u7684\\u5bc6\\u7801\\u3002\\n\\n\\u800c\\u6240\\u6709\\u7b49\\u5f85\\u7efd\\u653e\\u7684\\uff0c\\n\\u90fd\\u7b7e\\u6536\\u4e86\\uff0c\\n\\u9633\\u5149\\u7684\\u90ae\\u6233\\u3002\", \"refusal\": null, \"role\": \"assistant\", \"annotations\": null, \"audio\": null, \"function_call\": null, \"tool_calls\": null}}], \"created\": 1748416722, \"model\": \"deepseek-chat\", \"object\": \"chat.completion\", \"service_tier\": null, \"system_fingerprint\": \"fp_8802369eaa_prod0425fp8\", \"usage\": {\"completion_tokens\": 55, \"prompt_tokens\": 15, \"total_tokens\": 70, \"completion_tokens_details\": null, \"prompt_tokens_details\": {\"audio_tokens\": null, \"cached_tokens\": 0}, \"prompt_cache_hit_tokens\": 0, \"prompt_cache_miss_tokens\": 15}}, \"prompt_tokens\": 15, \"completion_tokens\": 55, \"agent_id\": \"primary_420844e9-f5f6-4dcc-ad8e-2e221efd7775/420844e9-f5f6-4dcc-ad8e-2e221efd7775\"}\n",
      "{\"type\": \"LLMCall\", \"messages\": [{\"content\": \"\\u4f60\\u662f\\u4e00\\u4e2a\\u8d85\\u7ea7\\u6709\\u7528\\u7684\\u52a9\\u624b\\u3002\", \"role\": \"system\"}, {\"role\": \"user\", \"name\": \"user\", \"content\": \"\\u5199\\u4e00\\u9996\\u5173\\u4e8e\\u6625\\u5929\\u7684\\u8bd7\\u3002\"}], \"response\": {\"id\": \"890b68f3-f08f-437d-932a-a90102a0bd62\", \"choices\": [{\"finish_reason\": \"stop\", \"index\": 0, \"logprobs\": null, \"message\": {\"content\": \"\\u300a\\u4e09\\u6708\\u7684\\u4fe1\\u7b3a\\u300b\\n\\n\\n\\u4e1c\\u98ce\\u89e3\\u5f00\\u51b0\\u7684\\u7ef3\\u7ed3\\uff0c\\n\\u628a\\u6574\\u5b63\\u7684\\u79c1\\u8bed\\uff0c\\n\\u6298\\u6210\\u67f3\\u53f6\\u7684\\u5f62\\u72b6\\u3002\\n\\n\\u6ce5\\u571f\\u6df1\\u5904\\uff0c\\n\\u86af\\u8693\\u5728\\u7ffb\\u8bd1\\uff0c\\n\\u51ac\\u5929\\u7559\\u4e0b\\u7684\\u5bc6\\u7801\\u3002\\n\\n\\u800c\\u6240\\u6709\\u7b49\\u5f85\\u7efd\\u653e\\u7684\\uff0c\\n\\u90fd\\u7b7e\\u6536\\u4e86\\uff0c\\n\\u9633\\u5149\\u7684\\u90ae\\u6233\\u3002\", \"refusal\": null, \"role\": \"assistant\", \"annotations\": null, \"audio\": null, \"function_call\": null, \"tool_calls\": null}}], \"created\": 1748416722, \"model\": \"deepseek-chat\", \"object\": \"chat.completion\", \"service_tier\": null, \"system_fingerprint\": \"fp_8802369eaa_prod0425fp8\", \"usage\": {\"completion_tokens\": 55, \"prompt_tokens\": 15, \"total_tokens\": 70, \"completion_tokens_details\": null, \"prompt_tokens_details\": {\"audio_tokens\": null, \"cached_tokens\": 0}, \"prompt_cache_hit_tokens\": 0, \"prompt_cache_miss_tokens\": 15}}, \"prompt_tokens\": 15, \"completion_tokens\": 55, \"agent_id\": \"primary_420844e9-f5f6-4dcc-ad8e-2e221efd7775/420844e9-f5f6-4dcc-ad8e-2e221efd7775\"}\n",
      "INFO:autogen_core.events:{\"type\": \"LLMCall\", \"messages\": [{\"content\": \"\\u4f60\\u662f\\u4e00\\u4e2a\\u8d85\\u7ea7\\u6709\\u7528\\u7684\\u52a9\\u624b\\u3002\", \"role\": \"system\"}, {\"role\": \"user\", \"name\": \"user\", \"content\": \"\\u5199\\u4e00\\u9996\\u5173\\u4e8e\\u6625\\u5929\\u7684\\u8bd7\\u3002\"}], \"response\": {\"id\": \"890b68f3-f08f-437d-932a-a90102a0bd62\", \"choices\": [{\"finish_reason\": \"stop\", \"index\": 0, \"logprobs\": null, \"message\": {\"content\": \"\\u300a\\u4e09\\u6708\\u7684\\u4fe1\\u7b3a\\u300b\\n\\n\\n\\u4e1c\\u98ce\\u89e3\\u5f00\\u51b0\\u7684\\u7ef3\\u7ed3\\uff0c\\n\\u628a\\u6574\\u5b63\\u7684\\u79c1\\u8bed\\uff0c\\n\\u6298\\u6210\\u67f3\\u53f6\\u7684\\u5f62\\u72b6\\u3002\\n\\n\\u6ce5\\u571f\\u6df1\\u5904\\uff0c\\n\\u86af\\u8693\\u5728\\u7ffb\\u8bd1\\uff0c\\n\\u51ac\\u5929\\u7559\\u4e0b\\u7684\\u5bc6\\u7801\\u3002\\n\\n\\u800c\\u6240\\u6709\\u7b49\\u5f85\\u7efd\\u653e\\u7684\\uff0c\\n\\u90fd\\u7b7e\\u6536\\u4e86\\uff0c\\n\\u9633\\u5149\\u7684\\u90ae\\u6233\\u3002\", \"refusal\": null, \"role\": \"assistant\", \"annotations\": null, \"audio\": null, \"function_call\": null, \"tool_calls\": null}}], \"created\": 1748416722, \"model\": \"deepseek-chat\", \"object\": \"chat.completion\", \"service_tier\": null, \"system_fingerprint\": \"fp_8802369eaa_prod0425fp8\", \"usage\": {\"completion_tokens\": 55, \"prompt_tokens\": 15, \"total_tokens\": 70, \"completion_tokens_details\": null, \"prompt_tokens_details\": {\"audio_tokens\": null, \"cached_tokens\": 0}, \"prompt_cache_hit_tokens\": 0, \"prompt_cache_miss_tokens\": 15}}, \"prompt_tokens\": 15, \"completion_tokens\": 55, \"agent_id\": \"primary_420844e9-f5f6-4dcc-ad8e-2e221efd7775/420844e9-f5f6-4dcc-ad8e-2e221efd7775\"}\n",
      "{\"payload\": \"{\\\"message\\\":{\\\"source\\\":\\\"primary\\\",\\\"models_usage\\\":{\\\"prompt_tokens\\\":15,\\\"completion_tokens\\\":55},\\\"metadata\\\":{}}}\", \"sender\": \"primary_420844e9-f5f6-4dcc-ad8e-2e221efd7775/420844e9-f5f6-4dcc-ad8e-2e221efd7775\", \"receiver\": \"output_topic_420844e9-f5f6-4dcc-ad8e-2e221efd7775/420844e9-f5f6-4dcc-ad8e-2e221efd7775\", \"kind\": \"MessageKind.PUBLISH\", \"delivery_stage\": \"DeliveryStage.SEND\", \"type\": \"Message\"}\n",
      "{\"payload\": \"{\\\"message\\\":{\\\"source\\\":\\\"primary\\\",\\\"models_usage\\\":{\\\"prompt_tokens\\\":15,\\\"completion_tokens\\\":55},\\\"metadata\\\":{}}}\", \"sender\": \"primary_420844e9-f5f6-4dcc-ad8e-2e221efd7775/420844e9-f5f6-4dcc-ad8e-2e221efd7775\", \"receiver\": \"output_topic_420844e9-f5f6-4dcc-ad8e-2e221efd7775/420844e9-f5f6-4dcc-ad8e-2e221efd7775\", \"kind\": \"MessageKind.PUBLISH\", \"delivery_stage\": \"DeliveryStage.SEND\", \"type\": \"Message\"}\n",
      "{\"payload\": \"{\\\"message\\\":{\\\"source\\\":\\\"primary\\\",\\\"models_usage\\\":{\\\"prompt_tokens\\\":15,\\\"completion_tokens\\\":55},\\\"metadata\\\":{}}}\", \"sender\": \"primary_420844e9-f5f6-4dcc-ad8e-2e221efd7775/420844e9-f5f6-4dcc-ad8e-2e221efd7775\", \"receiver\": \"output_topic_420844e9-f5f6-4dcc-ad8e-2e221efd7775/420844e9-f5f6-4dcc-ad8e-2e221efd7775\", \"kind\": \"MessageKind.PUBLISH\", \"delivery_stage\": \"DeliveryStage.SEND\", \"type\": \"Message\"}\n",
      "INFO:autogen_core.events:{\"payload\": \"{\\\"message\\\":{\\\"source\\\":\\\"primary\\\",\\\"models_usage\\\":{\\\"prompt_tokens\\\":15,\\\"completion_tokens\\\":55},\\\"metadata\\\":{}}}\", \"sender\": \"primary_420844e9-f5f6-4dcc-ad8e-2e221efd7775/420844e9-f5f6-4dcc-ad8e-2e221efd7775\", \"receiver\": \"output_topic_420844e9-f5f6-4dcc-ad8e-2e221efd7775/420844e9-f5f6-4dcc-ad8e-2e221efd7775\", \"kind\": \"MessageKind.PUBLISH\", \"delivery_stage\": \"DeliveryStage.SEND\", \"type\": \"Message\"}\n",
      "{\"payload\": \"{\\\"agent_response\\\":{\\\"chat_message\\\":{\\\"source\\\":\\\"primary\\\",\\\"models_usage\\\":{\\\"prompt_tokens\\\":15,\\\"completion_tokens\\\":55},\\\"metadata\\\":{}},\\\"inner_messages\\\":[]}}\", \"sender\": \"primary_420844e9-f5f6-4dcc-ad8e-2e221efd7775/420844e9-f5f6-4dcc-ad8e-2e221efd7775\", \"receiver\": \"group_topic_420844e9-f5f6-4dcc-ad8e-2e221efd7775/420844e9-f5f6-4dcc-ad8e-2e221efd7775\", \"kind\": \"MessageKind.PUBLISH\", \"delivery_stage\": \"DeliveryStage.SEND\", \"type\": \"Message\"}\n",
      "{\"payload\": \"{\\\"agent_response\\\":{\\\"chat_message\\\":{\\\"source\\\":\\\"primary\\\",\\\"models_usage\\\":{\\\"prompt_tokens\\\":15,\\\"completion_tokens\\\":55},\\\"metadata\\\":{}},\\\"inner_messages\\\":[]}}\", \"sender\": \"primary_420844e9-f5f6-4dcc-ad8e-2e221efd7775/420844e9-f5f6-4dcc-ad8e-2e221efd7775\", \"receiver\": \"group_topic_420844e9-f5f6-4dcc-ad8e-2e221efd7775/420844e9-f5f6-4dcc-ad8e-2e221efd7775\", \"kind\": \"MessageKind.PUBLISH\", \"delivery_stage\": \"DeliveryStage.SEND\", \"type\": \"Message\"}\n",
      "{\"payload\": \"{\\\"agent_response\\\":{\\\"chat_message\\\":{\\\"source\\\":\\\"primary\\\",\\\"models_usage\\\":{\\\"prompt_tokens\\\":15,\\\"completion_tokens\\\":55},\\\"metadata\\\":{}},\\\"inner_messages\\\":[]}}\", \"sender\": \"primary_420844e9-f5f6-4dcc-ad8e-2e221efd7775/420844e9-f5f6-4dcc-ad8e-2e221efd7775\", \"receiver\": \"group_topic_420844e9-f5f6-4dcc-ad8e-2e221efd7775/420844e9-f5f6-4dcc-ad8e-2e221efd7775\", \"kind\": \"MessageKind.PUBLISH\", \"delivery_stage\": \"DeliveryStage.SEND\", \"type\": \"Message\"}\n",
      "INFO:autogen_core.events:{\"payload\": \"{\\\"agent_response\\\":{\\\"chat_message\\\":{\\\"source\\\":\\\"primary\\\",\\\"models_usage\\\":{\\\"prompt_tokens\\\":15,\\\"completion_tokens\\\":55},\\\"metadata\\\":{}},\\\"inner_messages\\\":[]}}\", \"sender\": \"primary_420844e9-f5f6-4dcc-ad8e-2e221efd7775/420844e9-f5f6-4dcc-ad8e-2e221efd7775\", \"receiver\": \"group_topic_420844e9-f5f6-4dcc-ad8e-2e221efd7775/420844e9-f5f6-4dcc-ad8e-2e221efd7775\", \"kind\": \"MessageKind.PUBLISH\", \"delivery_stage\": \"DeliveryStage.SEND\", \"type\": \"Message\"}\n",
      "{\"payload\": \"{\\\"message\\\":{\\\"source\\\":\\\"primary\\\",\\\"models_usage\\\":{\\\"prompt_tokens\\\":15,\\\"completion_tokens\\\":55},\\\"metadata\\\":{}}}\", \"sender\": \"primary_420844e9-f5f6-4dcc-ad8e-2e221efd7775/420844e9-f5f6-4dcc-ad8e-2e221efd7775\", \"receiver\": null, \"kind\": \"MessageKind.PUBLISH\", \"delivery_stage\": \"DeliveryStage.DELIVER\", \"type\": \"Message\"}\n",
      "{\"payload\": \"{\\\"message\\\":{\\\"source\\\":\\\"primary\\\",\\\"models_usage\\\":{\\\"prompt_tokens\\\":15,\\\"completion_tokens\\\":55},\\\"metadata\\\":{}}}\", \"sender\": \"primary_420844e9-f5f6-4dcc-ad8e-2e221efd7775/420844e9-f5f6-4dcc-ad8e-2e221efd7775\", \"receiver\": null, \"kind\": \"MessageKind.PUBLISH\", \"delivery_stage\": \"DeliveryStage.DELIVER\", \"type\": \"Message\"}\n",
      "{\"payload\": \"{\\\"message\\\":{\\\"source\\\":\\\"primary\\\",\\\"models_usage\\\":{\\\"prompt_tokens\\\":15,\\\"completion_tokens\\\":55},\\\"metadata\\\":{}}}\", \"sender\": \"primary_420844e9-f5f6-4dcc-ad8e-2e221efd7775/420844e9-f5f6-4dcc-ad8e-2e221efd7775\", \"receiver\": null, \"kind\": \"MessageKind.PUBLISH\", \"delivery_stage\": \"DeliveryStage.DELIVER\", \"type\": \"Message\"}\n",
      "INFO:autogen_core.events:{\"payload\": \"{\\\"message\\\":{\\\"source\\\":\\\"primary\\\",\\\"models_usage\\\":{\\\"prompt_tokens\\\":15,\\\"completion_tokens\\\":55},\\\"metadata\\\":{}}}\", \"sender\": \"primary_420844e9-f5f6-4dcc-ad8e-2e221efd7775/420844e9-f5f6-4dcc-ad8e-2e221efd7775\", \"receiver\": null, \"kind\": \"MessageKind.PUBLISH\", \"delivery_stage\": \"DeliveryStage.DELIVER\", \"type\": \"Message\"}\n",
      "{\"payload\": \"{\\\"agent_response\\\":{\\\"chat_message\\\":{\\\"source\\\":\\\"primary\\\",\\\"models_usage\\\":{\\\"prompt_tokens\\\":15,\\\"completion_tokens\\\":55},\\\"metadata\\\":{}},\\\"inner_messages\\\":[]}}\", \"sender\": \"primary_420844e9-f5f6-4dcc-ad8e-2e221efd7775/420844e9-f5f6-4dcc-ad8e-2e221efd7775\", \"receiver\": null, \"kind\": \"MessageKind.PUBLISH\", \"delivery_stage\": \"DeliveryStage.DELIVER\", \"type\": \"Message\"}\n",
      "{\"payload\": \"{\\\"agent_response\\\":{\\\"chat_message\\\":{\\\"source\\\":\\\"primary\\\",\\\"models_usage\\\":{\\\"prompt_tokens\\\":15,\\\"completion_tokens\\\":55},\\\"metadata\\\":{}},\\\"inner_messages\\\":[]}}\", \"sender\": \"primary_420844e9-f5f6-4dcc-ad8e-2e221efd7775/420844e9-f5f6-4dcc-ad8e-2e221efd7775\", \"receiver\": null, \"kind\": \"MessageKind.PUBLISH\", \"delivery_stage\": \"DeliveryStage.DELIVER\", \"type\": \"Message\"}\n",
      "{\"payload\": \"{\\\"agent_response\\\":{\\\"chat_message\\\":{\\\"source\\\":\\\"primary\\\",\\\"models_usage\\\":{\\\"prompt_tokens\\\":15,\\\"completion_tokens\\\":55},\\\"metadata\\\":{}},\\\"inner_messages\\\":[]}}\", \"sender\": \"primary_420844e9-f5f6-4dcc-ad8e-2e221efd7775/420844e9-f5f6-4dcc-ad8e-2e221efd7775\", \"receiver\": null, \"kind\": \"MessageKind.PUBLISH\", \"delivery_stage\": \"DeliveryStage.DELIVER\", \"type\": \"Message\"}\n",
      "INFO:autogen_core.events:{\"payload\": \"{\\\"agent_response\\\":{\\\"chat_message\\\":{\\\"source\\\":\\\"primary\\\",\\\"models_usage\\\":{\\\"prompt_tokens\\\":15,\\\"completion_tokens\\\":55},\\\"metadata\\\":{}},\\\"inner_messages\\\":[]}}\", \"sender\": \"primary_420844e9-f5f6-4dcc-ad8e-2e221efd7775/420844e9-f5f6-4dcc-ad8e-2e221efd7775\", \"receiver\": null, \"kind\": \"MessageKind.PUBLISH\", \"delivery_stage\": \"DeliveryStage.DELIVER\", \"type\": \"Message\"}\n",
      "{\"payload\": \"{\\\"agent_response\\\":{\\\"chat_message\\\":{\\\"source\\\":\\\"primary\\\",\\\"models_usage\\\":{\\\"prompt_tokens\\\":15,\\\"completion_tokens\\\":55},\\\"metadata\\\":{}},\\\"inner_messages\\\":[]}}\", \"sender\": \"primary_420844e9-f5f6-4dcc-ad8e-2e221efd7775/420844e9-f5f6-4dcc-ad8e-2e221efd7775\", \"receiver\": null, \"kind\": \"MessageKind.PUBLISH\", \"delivery_stage\": \"DeliveryStage.DELIVER\", \"type\": \"Message\"}\n",
      "{\"payload\": \"{\\\"agent_response\\\":{\\\"chat_message\\\":{\\\"source\\\":\\\"primary\\\",\\\"models_usage\\\":{\\\"prompt_tokens\\\":15,\\\"completion_tokens\\\":55},\\\"metadata\\\":{}},\\\"inner_messages\\\":[]}}\", \"sender\": \"primary_420844e9-f5f6-4dcc-ad8e-2e221efd7775/420844e9-f5f6-4dcc-ad8e-2e221efd7775\", \"receiver\": null, \"kind\": \"MessageKind.PUBLISH\", \"delivery_stage\": \"DeliveryStage.DELIVER\", \"type\": \"Message\"}\n",
      "{\"payload\": \"{\\\"agent_response\\\":{\\\"chat_message\\\":{\\\"source\\\":\\\"primary\\\",\\\"models_usage\\\":{\\\"prompt_tokens\\\":15,\\\"completion_tokens\\\":55},\\\"metadata\\\":{}},\\\"inner_messages\\\":[]}}\", \"sender\": \"primary_420844e9-f5f6-4dcc-ad8e-2e221efd7775/420844e9-f5f6-4dcc-ad8e-2e221efd7775\", \"receiver\": null, \"kind\": \"MessageKind.PUBLISH\", \"delivery_stage\": \"DeliveryStage.DELIVER\", \"type\": \"Message\"}\n",
      "INFO:autogen_core.events:{\"payload\": \"{\\\"agent_response\\\":{\\\"chat_message\\\":{\\\"source\\\":\\\"primary\\\",\\\"models_usage\\\":{\\\"prompt_tokens\\\":15,\\\"completion_tokens\\\":55},\\\"metadata\\\":{}},\\\"inner_messages\\\":[]}}\", \"sender\": \"primary_420844e9-f5f6-4dcc-ad8e-2e221efd7775/420844e9-f5f6-4dcc-ad8e-2e221efd7775\", \"receiver\": null, \"kind\": \"MessageKind.PUBLISH\", \"delivery_stage\": \"DeliveryStage.DELIVER\", \"type\": \"Message\"}\n",
      "{\"payload\": \"{}\", \"sender\": \"RoundRobinGroupChatManager_420844e9-f5f6-4dcc-ad8e-2e221efd7775/420844e9-f5f6-4dcc-ad8e-2e221efd7775\", \"receiver\": \"critic_420844e9-f5f6-4dcc-ad8e-2e221efd7775/420844e9-f5f6-4dcc-ad8e-2e221efd7775\", \"kind\": \"MessageKind.PUBLISH\", \"delivery_stage\": \"DeliveryStage.SEND\", \"type\": \"Message\"}\n"
     ]
    },
    {
     "name": "stdout",
     "output_type": "stream",
     "text": [
      "---------- TextMessage (primary) ----------\n"
     ]
    },
    {
     "name": "stderr",
     "output_type": "stream",
     "text": [
      "{\"payload\": \"{}\", \"sender\": \"RoundRobinGroupChatManager_420844e9-f5f6-4dcc-ad8e-2e221efd7775/420844e9-f5f6-4dcc-ad8e-2e221efd7775\", \"receiver\": \"critic_420844e9-f5f6-4dcc-ad8e-2e221efd7775/420844e9-f5f6-4dcc-ad8e-2e221efd7775\", \"kind\": \"MessageKind.PUBLISH\", \"delivery_stage\": \"DeliveryStage.SEND\", \"type\": \"Message\"}\n",
      "{\"payload\": \"{}\", \"sender\": \"RoundRobinGroupChatManager_420844e9-f5f6-4dcc-ad8e-2e221efd7775/420844e9-f5f6-4dcc-ad8e-2e221efd7775\", \"receiver\": \"critic_420844e9-f5f6-4dcc-ad8e-2e221efd7775/420844e9-f5f6-4dcc-ad8e-2e221efd7775\", \"kind\": \"MessageKind.PUBLISH\", \"delivery_stage\": \"DeliveryStage.SEND\", \"type\": \"Message\"}\n",
      "INFO:autogen_core.events:{\"payload\": \"{}\", \"sender\": \"RoundRobinGroupChatManager_420844e9-f5f6-4dcc-ad8e-2e221efd7775/420844e9-f5f6-4dcc-ad8e-2e221efd7775\", \"receiver\": \"critic_420844e9-f5f6-4dcc-ad8e-2e221efd7775/420844e9-f5f6-4dcc-ad8e-2e221efd7775\", \"kind\": \"MessageKind.PUBLISH\", \"delivery_stage\": \"DeliveryStage.SEND\", \"type\": \"Message\"}\n",
      "{\"payload\": \"{}\", \"sender\": \"RoundRobinGroupChatManager_420844e9-f5f6-4dcc-ad8e-2e221efd7775/420844e9-f5f6-4dcc-ad8e-2e221efd7775\", \"receiver\": null, \"kind\": \"MessageKind.PUBLISH\", \"delivery_stage\": \"DeliveryStage.DELIVER\", \"type\": \"Message\"}\n",
      "{\"payload\": \"{}\", \"sender\": \"RoundRobinGroupChatManager_420844e9-f5f6-4dcc-ad8e-2e221efd7775/420844e9-f5f6-4dcc-ad8e-2e221efd7775\", \"receiver\": null, \"kind\": \"MessageKind.PUBLISH\", \"delivery_stage\": \"DeliveryStage.DELIVER\", \"type\": \"Message\"}\n"
     ]
    },
    {
     "name": "stdout",
     "output_type": "stream",
     "text": [
      "《三月的信笺》\n",
      "\n",
      "\n",
      "东风解开冰的绳结，\n",
      "把整季的私语，\n",
      "折成柳叶的形状。\n",
      "\n",
      "泥土深处，\n",
      "蚯蚓在翻译，\n",
      "冬天留下的密码。\n",
      "\n",
      "而所有等待绽放的，\n",
      "都签收了，\n",
      "阳光的邮戳。\n"
     ]
    },
    {
     "name": "stderr",
     "output_type": "stream",
     "text": [
      "{\"payload\": \"{}\", \"sender\": \"RoundRobinGroupChatManager_420844e9-f5f6-4dcc-ad8e-2e221efd7775/420844e9-f5f6-4dcc-ad8e-2e221efd7775\", \"receiver\": null, \"kind\": \"MessageKind.PUBLISH\", \"delivery_stage\": \"DeliveryStage.DELIVER\", \"type\": \"Message\"}\n",
      "INFO:autogen_core.events:{\"payload\": \"{}\", \"sender\": \"RoundRobinGroupChatManager_420844e9-f5f6-4dcc-ad8e-2e221efd7775/420844e9-f5f6-4dcc-ad8e-2e221efd7775\", \"receiver\": null, \"kind\": \"MessageKind.PUBLISH\", \"delivery_stage\": \"DeliveryStage.DELIVER\", \"type\": \"Message\"}\n",
      "{\"type\": \"LLMCall\", \"messages\": [{\"content\": \"\\u63d0\\u4f9b\\u5efa\\u8bbe\\u6027\\u7684\\u53cd\\u9988\\u3002\\u5f53\\u4f60\\u7684\\u53cd\\u9988\\u5f97\\u5230\\u89e3\\u51b3\\u65f6\\uff0c\\u8bf7\\u56de\\u590d\\\"APPROVE\\\"\", \"role\": \"system\"}, {\"role\": \"user\", \"name\": \"user\", \"content\": \"\\u5199\\u4e00\\u9996\\u5173\\u4e8e\\u6625\\u5929\\u7684\\u8bd7\\u3002\"}, {\"role\": \"user\", \"name\": \"primary\", \"content\": \"\\u300a\\u4e09\\u6708\\u7684\\u4fe1\\u7b3a\\u300b\\n\\n\\n\\u4e1c\\u98ce\\u89e3\\u5f00\\u51b0\\u7684\\u7ef3\\u7ed3\\uff0c\\n\\u628a\\u6574\\u5b63\\u7684\\u79c1\\u8bed\\uff0c\\n\\u6298\\u6210\\u67f3\\u53f6\\u7684\\u5f62\\u72b6\\u3002\\n\\n\\u6ce5\\u571f\\u6df1\\u5904\\uff0c\\n\\u86af\\u8693\\u5728\\u7ffb\\u8bd1\\uff0c\\n\\u51ac\\u5929\\u7559\\u4e0b\\u7684\\u5bc6\\u7801\\u3002\\n\\n\\u800c\\u6240\\u6709\\u7b49\\u5f85\\u7efd\\u653e\\u7684\\uff0c\\n\\u90fd\\u7b7e\\u6536\\u4e86\\uff0c\\n\\u9633\\u5149\\u7684\\u90ae\\u6233\\u3002\"}], \"response\": {\"id\": \"c6ef1cac-50cf-4670-b0d8-6059309d26e1\", \"choices\": [{\"finish_reason\": \"stop\", \"index\": 0, \"logprobs\": null, \"message\": {\"content\": \"APPROVE\", \"refusal\": null, \"role\": \"assistant\", \"annotations\": null, \"audio\": null, \"function_call\": null, \"tool_calls\": null}}], \"created\": 1748416729, \"model\": \"deepseek-chat\", \"object\": \"chat.completion\", \"service_tier\": null, \"system_fingerprint\": \"fp_8802369eaa_prod0425fp8\", \"usage\": {\"completion_tokens\": 3, \"prompt_tokens\": 83, \"total_tokens\": 86, \"completion_tokens_details\": null, \"prompt_tokens_details\": {\"audio_tokens\": null, \"cached_tokens\": 0}, \"prompt_cache_hit_tokens\": 0, \"prompt_cache_miss_tokens\": 83}}, \"prompt_tokens\": 83, \"completion_tokens\": 3, \"agent_id\": \"critic_420844e9-f5f6-4dcc-ad8e-2e221efd7775/420844e9-f5f6-4dcc-ad8e-2e221efd7775\"}\n",
      "{\"type\": \"LLMCall\", \"messages\": [{\"content\": \"\\u63d0\\u4f9b\\u5efa\\u8bbe\\u6027\\u7684\\u53cd\\u9988\\u3002\\u5f53\\u4f60\\u7684\\u53cd\\u9988\\u5f97\\u5230\\u89e3\\u51b3\\u65f6\\uff0c\\u8bf7\\u56de\\u590d\\\"APPROVE\\\"\", \"role\": \"system\"}, {\"role\": \"user\", \"name\": \"user\", \"content\": \"\\u5199\\u4e00\\u9996\\u5173\\u4e8e\\u6625\\u5929\\u7684\\u8bd7\\u3002\"}, {\"role\": \"user\", \"name\": \"primary\", \"content\": \"\\u300a\\u4e09\\u6708\\u7684\\u4fe1\\u7b3a\\u300b\\n\\n\\n\\u4e1c\\u98ce\\u89e3\\u5f00\\u51b0\\u7684\\u7ef3\\u7ed3\\uff0c\\n\\u628a\\u6574\\u5b63\\u7684\\u79c1\\u8bed\\uff0c\\n\\u6298\\u6210\\u67f3\\u53f6\\u7684\\u5f62\\u72b6\\u3002\\n\\n\\u6ce5\\u571f\\u6df1\\u5904\\uff0c\\n\\u86af\\u8693\\u5728\\u7ffb\\u8bd1\\uff0c\\n\\u51ac\\u5929\\u7559\\u4e0b\\u7684\\u5bc6\\u7801\\u3002\\n\\n\\u800c\\u6240\\u6709\\u7b49\\u5f85\\u7efd\\u653e\\u7684\\uff0c\\n\\u90fd\\u7b7e\\u6536\\u4e86\\uff0c\\n\\u9633\\u5149\\u7684\\u90ae\\u6233\\u3002\"}], \"response\": {\"id\": \"c6ef1cac-50cf-4670-b0d8-6059309d26e1\", \"choices\": [{\"finish_reason\": \"stop\", \"index\": 0, \"logprobs\": null, \"message\": {\"content\": \"APPROVE\", \"refusal\": null, \"role\": \"assistant\", \"annotations\": null, \"audio\": null, \"function_call\": null, \"tool_calls\": null}}], \"created\": 1748416729, \"model\": \"deepseek-chat\", \"object\": \"chat.completion\", \"service_tier\": null, \"system_fingerprint\": \"fp_8802369eaa_prod0425fp8\", \"usage\": {\"completion_tokens\": 3, \"prompt_tokens\": 83, \"total_tokens\": 86, \"completion_tokens_details\": null, \"prompt_tokens_details\": {\"audio_tokens\": null, \"cached_tokens\": 0}, \"prompt_cache_hit_tokens\": 0, \"prompt_cache_miss_tokens\": 83}}, \"prompt_tokens\": 83, \"completion_tokens\": 3, \"agent_id\": \"critic_420844e9-f5f6-4dcc-ad8e-2e221efd7775/420844e9-f5f6-4dcc-ad8e-2e221efd7775\"}\n",
      "{\"type\": \"LLMCall\", \"messages\": [{\"content\": \"\\u63d0\\u4f9b\\u5efa\\u8bbe\\u6027\\u7684\\u53cd\\u9988\\u3002\\u5f53\\u4f60\\u7684\\u53cd\\u9988\\u5f97\\u5230\\u89e3\\u51b3\\u65f6\\uff0c\\u8bf7\\u56de\\u590d\\\"APPROVE\\\"\", \"role\": \"system\"}, {\"role\": \"user\", \"name\": \"user\", \"content\": \"\\u5199\\u4e00\\u9996\\u5173\\u4e8e\\u6625\\u5929\\u7684\\u8bd7\\u3002\"}, {\"role\": \"user\", \"name\": \"primary\", \"content\": \"\\u300a\\u4e09\\u6708\\u7684\\u4fe1\\u7b3a\\u300b\\n\\n\\n\\u4e1c\\u98ce\\u89e3\\u5f00\\u51b0\\u7684\\u7ef3\\u7ed3\\uff0c\\n\\u628a\\u6574\\u5b63\\u7684\\u79c1\\u8bed\\uff0c\\n\\u6298\\u6210\\u67f3\\u53f6\\u7684\\u5f62\\u72b6\\u3002\\n\\n\\u6ce5\\u571f\\u6df1\\u5904\\uff0c\\n\\u86af\\u8693\\u5728\\u7ffb\\u8bd1\\uff0c\\n\\u51ac\\u5929\\u7559\\u4e0b\\u7684\\u5bc6\\u7801\\u3002\\n\\n\\u800c\\u6240\\u6709\\u7b49\\u5f85\\u7efd\\u653e\\u7684\\uff0c\\n\\u90fd\\u7b7e\\u6536\\u4e86\\uff0c\\n\\u9633\\u5149\\u7684\\u90ae\\u6233\\u3002\"}], \"response\": {\"id\": \"c6ef1cac-50cf-4670-b0d8-6059309d26e1\", \"choices\": [{\"finish_reason\": \"stop\", \"index\": 0, \"logprobs\": null, \"message\": {\"content\": \"APPROVE\", \"refusal\": null, \"role\": \"assistant\", \"annotations\": null, \"audio\": null, \"function_call\": null, \"tool_calls\": null}}], \"created\": 1748416729, \"model\": \"deepseek-chat\", \"object\": \"chat.completion\", \"service_tier\": null, \"system_fingerprint\": \"fp_8802369eaa_prod0425fp8\", \"usage\": {\"completion_tokens\": 3, \"prompt_tokens\": 83, \"total_tokens\": 86, \"completion_tokens_details\": null, \"prompt_tokens_details\": {\"audio_tokens\": null, \"cached_tokens\": 0}, \"prompt_cache_hit_tokens\": 0, \"prompt_cache_miss_tokens\": 83}}, \"prompt_tokens\": 83, \"completion_tokens\": 3, \"agent_id\": \"critic_420844e9-f5f6-4dcc-ad8e-2e221efd7775/420844e9-f5f6-4dcc-ad8e-2e221efd7775\"}\n",
      "INFO:autogen_core.events:{\"type\": \"LLMCall\", \"messages\": [{\"content\": \"\\u63d0\\u4f9b\\u5efa\\u8bbe\\u6027\\u7684\\u53cd\\u9988\\u3002\\u5f53\\u4f60\\u7684\\u53cd\\u9988\\u5f97\\u5230\\u89e3\\u51b3\\u65f6\\uff0c\\u8bf7\\u56de\\u590d\\\"APPROVE\\\"\", \"role\": \"system\"}, {\"role\": \"user\", \"name\": \"user\", \"content\": \"\\u5199\\u4e00\\u9996\\u5173\\u4e8e\\u6625\\u5929\\u7684\\u8bd7\\u3002\"}, {\"role\": \"user\", \"name\": \"primary\", \"content\": \"\\u300a\\u4e09\\u6708\\u7684\\u4fe1\\u7b3a\\u300b\\n\\n\\n\\u4e1c\\u98ce\\u89e3\\u5f00\\u51b0\\u7684\\u7ef3\\u7ed3\\uff0c\\n\\u628a\\u6574\\u5b63\\u7684\\u79c1\\u8bed\\uff0c\\n\\u6298\\u6210\\u67f3\\u53f6\\u7684\\u5f62\\u72b6\\u3002\\n\\n\\u6ce5\\u571f\\u6df1\\u5904\\uff0c\\n\\u86af\\u8693\\u5728\\u7ffb\\u8bd1\\uff0c\\n\\u51ac\\u5929\\u7559\\u4e0b\\u7684\\u5bc6\\u7801\\u3002\\n\\n\\u800c\\u6240\\u6709\\u7b49\\u5f85\\u7efd\\u653e\\u7684\\uff0c\\n\\u90fd\\u7b7e\\u6536\\u4e86\\uff0c\\n\\u9633\\u5149\\u7684\\u90ae\\u6233\\u3002\"}], \"response\": {\"id\": \"c6ef1cac-50cf-4670-b0d8-6059309d26e1\", \"choices\": [{\"finish_reason\": \"stop\", \"index\": 0, \"logprobs\": null, \"message\": {\"content\": \"APPROVE\", \"refusal\": null, \"role\": \"assistant\", \"annotations\": null, \"audio\": null, \"function_call\": null, \"tool_calls\": null}}], \"created\": 1748416729, \"model\": \"deepseek-chat\", \"object\": \"chat.completion\", \"service_tier\": null, \"system_fingerprint\": \"fp_8802369eaa_prod0425fp8\", \"usage\": {\"completion_tokens\": 3, \"prompt_tokens\": 83, \"total_tokens\": 86, \"completion_tokens_details\": null, \"prompt_tokens_details\": {\"audio_tokens\": null, \"cached_tokens\": 0}, \"prompt_cache_hit_tokens\": 0, \"prompt_cache_miss_tokens\": 83}}, \"prompt_tokens\": 83, \"completion_tokens\": 3, \"agent_id\": \"critic_420844e9-f5f6-4dcc-ad8e-2e221efd7775/420844e9-f5f6-4dcc-ad8e-2e221efd7775\"}\n",
      "{\"payload\": \"{\\\"message\\\":{\\\"source\\\":\\\"critic\\\",\\\"models_usage\\\":{\\\"prompt_tokens\\\":83,\\\"completion_tokens\\\":3},\\\"metadata\\\":{}}}\", \"sender\": \"critic_420844e9-f5f6-4dcc-ad8e-2e221efd7775/420844e9-f5f6-4dcc-ad8e-2e221efd7775\", \"receiver\": \"output_topic_420844e9-f5f6-4dcc-ad8e-2e221efd7775/420844e9-f5f6-4dcc-ad8e-2e221efd7775\", \"kind\": \"MessageKind.PUBLISH\", \"delivery_stage\": \"DeliveryStage.SEND\", \"type\": \"Message\"}\n",
      "{\"payload\": \"{\\\"message\\\":{\\\"source\\\":\\\"critic\\\",\\\"models_usage\\\":{\\\"prompt_tokens\\\":83,\\\"completion_tokens\\\":3},\\\"metadata\\\":{}}}\", \"sender\": \"critic_420844e9-f5f6-4dcc-ad8e-2e221efd7775/420844e9-f5f6-4dcc-ad8e-2e221efd7775\", \"receiver\": \"output_topic_420844e9-f5f6-4dcc-ad8e-2e221efd7775/420844e9-f5f6-4dcc-ad8e-2e221efd7775\", \"kind\": \"MessageKind.PUBLISH\", \"delivery_stage\": \"DeliveryStage.SEND\", \"type\": \"Message\"}\n",
      "{\"payload\": \"{\\\"message\\\":{\\\"source\\\":\\\"critic\\\",\\\"models_usage\\\":{\\\"prompt_tokens\\\":83,\\\"completion_tokens\\\":3},\\\"metadata\\\":{}}}\", \"sender\": \"critic_420844e9-f5f6-4dcc-ad8e-2e221efd7775/420844e9-f5f6-4dcc-ad8e-2e221efd7775\", \"receiver\": \"output_topic_420844e9-f5f6-4dcc-ad8e-2e221efd7775/420844e9-f5f6-4dcc-ad8e-2e221efd7775\", \"kind\": \"MessageKind.PUBLISH\", \"delivery_stage\": \"DeliveryStage.SEND\", \"type\": \"Message\"}\n",
      "INFO:autogen_core.events:{\"payload\": \"{\\\"message\\\":{\\\"source\\\":\\\"critic\\\",\\\"models_usage\\\":{\\\"prompt_tokens\\\":83,\\\"completion_tokens\\\":3},\\\"metadata\\\":{}}}\", \"sender\": \"critic_420844e9-f5f6-4dcc-ad8e-2e221efd7775/420844e9-f5f6-4dcc-ad8e-2e221efd7775\", \"receiver\": \"output_topic_420844e9-f5f6-4dcc-ad8e-2e221efd7775/420844e9-f5f6-4dcc-ad8e-2e221efd7775\", \"kind\": \"MessageKind.PUBLISH\", \"delivery_stage\": \"DeliveryStage.SEND\", \"type\": \"Message\"}\n",
      "{\"payload\": \"{\\\"agent_response\\\":{\\\"chat_message\\\":{\\\"source\\\":\\\"critic\\\",\\\"models_usage\\\":{\\\"prompt_tokens\\\":83,\\\"completion_tokens\\\":3},\\\"metadata\\\":{}},\\\"inner_messages\\\":[]}}\", \"sender\": \"critic_420844e9-f5f6-4dcc-ad8e-2e221efd7775/420844e9-f5f6-4dcc-ad8e-2e221efd7775\", \"receiver\": \"group_topic_420844e9-f5f6-4dcc-ad8e-2e221efd7775/420844e9-f5f6-4dcc-ad8e-2e221efd7775\", \"kind\": \"MessageKind.PUBLISH\", \"delivery_stage\": \"DeliveryStage.SEND\", \"type\": \"Message\"}\n",
      "{\"payload\": \"{\\\"agent_response\\\":{\\\"chat_message\\\":{\\\"source\\\":\\\"critic\\\",\\\"models_usage\\\":{\\\"prompt_tokens\\\":83,\\\"completion_tokens\\\":3},\\\"metadata\\\":{}},\\\"inner_messages\\\":[]}}\", \"sender\": \"critic_420844e9-f5f6-4dcc-ad8e-2e221efd7775/420844e9-f5f6-4dcc-ad8e-2e221efd7775\", \"receiver\": \"group_topic_420844e9-f5f6-4dcc-ad8e-2e221efd7775/420844e9-f5f6-4dcc-ad8e-2e221efd7775\", \"kind\": \"MessageKind.PUBLISH\", \"delivery_stage\": \"DeliveryStage.SEND\", \"type\": \"Message\"}\n",
      "{\"payload\": \"{\\\"agent_response\\\":{\\\"chat_message\\\":{\\\"source\\\":\\\"critic\\\",\\\"models_usage\\\":{\\\"prompt_tokens\\\":83,\\\"completion_tokens\\\":3},\\\"metadata\\\":{}},\\\"inner_messages\\\":[]}}\", \"sender\": \"critic_420844e9-f5f6-4dcc-ad8e-2e221efd7775/420844e9-f5f6-4dcc-ad8e-2e221efd7775\", \"receiver\": \"group_topic_420844e9-f5f6-4dcc-ad8e-2e221efd7775/420844e9-f5f6-4dcc-ad8e-2e221efd7775\", \"kind\": \"MessageKind.PUBLISH\", \"delivery_stage\": \"DeliveryStage.SEND\", \"type\": \"Message\"}\n",
      "INFO:autogen_core.events:{\"payload\": \"{\\\"agent_response\\\":{\\\"chat_message\\\":{\\\"source\\\":\\\"critic\\\",\\\"models_usage\\\":{\\\"prompt_tokens\\\":83,\\\"completion_tokens\\\":3},\\\"metadata\\\":{}},\\\"inner_messages\\\":[]}}\", \"sender\": \"critic_420844e9-f5f6-4dcc-ad8e-2e221efd7775/420844e9-f5f6-4dcc-ad8e-2e221efd7775\", \"receiver\": \"group_topic_420844e9-f5f6-4dcc-ad8e-2e221efd7775/420844e9-f5f6-4dcc-ad8e-2e221efd7775\", \"kind\": \"MessageKind.PUBLISH\", \"delivery_stage\": \"DeliveryStage.SEND\", \"type\": \"Message\"}\n",
      "{\"payload\": \"{\\\"message\\\":{\\\"source\\\":\\\"critic\\\",\\\"models_usage\\\":{\\\"prompt_tokens\\\":83,\\\"completion_tokens\\\":3},\\\"metadata\\\":{}}}\", \"sender\": \"critic_420844e9-f5f6-4dcc-ad8e-2e221efd7775/420844e9-f5f6-4dcc-ad8e-2e221efd7775\", \"receiver\": null, \"kind\": \"MessageKind.PUBLISH\", \"delivery_stage\": \"DeliveryStage.DELIVER\", \"type\": \"Message\"}\n",
      "{\"payload\": \"{\\\"message\\\":{\\\"source\\\":\\\"critic\\\",\\\"models_usage\\\":{\\\"prompt_tokens\\\":83,\\\"completion_tokens\\\":3},\\\"metadata\\\":{}}}\", \"sender\": \"critic_420844e9-f5f6-4dcc-ad8e-2e221efd7775/420844e9-f5f6-4dcc-ad8e-2e221efd7775\", \"receiver\": null, \"kind\": \"MessageKind.PUBLISH\", \"delivery_stage\": \"DeliveryStage.DELIVER\", \"type\": \"Message\"}\n",
      "{\"payload\": \"{\\\"message\\\":{\\\"source\\\":\\\"critic\\\",\\\"models_usage\\\":{\\\"prompt_tokens\\\":83,\\\"completion_tokens\\\":3},\\\"metadata\\\":{}}}\", \"sender\": \"critic_420844e9-f5f6-4dcc-ad8e-2e221efd7775/420844e9-f5f6-4dcc-ad8e-2e221efd7775\", \"receiver\": null, \"kind\": \"MessageKind.PUBLISH\", \"delivery_stage\": \"DeliveryStage.DELIVER\", \"type\": \"Message\"}\n",
      "INFO:autogen_core.events:{\"payload\": \"{\\\"message\\\":{\\\"source\\\":\\\"critic\\\",\\\"models_usage\\\":{\\\"prompt_tokens\\\":83,\\\"completion_tokens\\\":3},\\\"metadata\\\":{}}}\", \"sender\": \"critic_420844e9-f5f6-4dcc-ad8e-2e221efd7775/420844e9-f5f6-4dcc-ad8e-2e221efd7775\", \"receiver\": null, \"kind\": \"MessageKind.PUBLISH\", \"delivery_stage\": \"DeliveryStage.DELIVER\", \"type\": \"Message\"}\n",
      "{\"payload\": \"{\\\"agent_response\\\":{\\\"chat_message\\\":{\\\"source\\\":\\\"critic\\\",\\\"models_usage\\\":{\\\"prompt_tokens\\\":83,\\\"completion_tokens\\\":3},\\\"metadata\\\":{}},\\\"inner_messages\\\":[]}}\", \"sender\": \"critic_420844e9-f5f6-4dcc-ad8e-2e221efd7775/420844e9-f5f6-4dcc-ad8e-2e221efd7775\", \"receiver\": null, \"kind\": \"MessageKind.PUBLISH\", \"delivery_stage\": \"DeliveryStage.DELIVER\", \"type\": \"Message\"}\n",
      "{\"payload\": \"{\\\"agent_response\\\":{\\\"chat_message\\\":{\\\"source\\\":\\\"critic\\\",\\\"models_usage\\\":{\\\"prompt_tokens\\\":83,\\\"completion_tokens\\\":3},\\\"metadata\\\":{}},\\\"inner_messages\\\":[]}}\", \"sender\": \"critic_420844e9-f5f6-4dcc-ad8e-2e221efd7775/420844e9-f5f6-4dcc-ad8e-2e221efd7775\", \"receiver\": null, \"kind\": \"MessageKind.PUBLISH\", \"delivery_stage\": \"DeliveryStage.DELIVER\", \"type\": \"Message\"}\n",
      "{\"payload\": \"{\\\"agent_response\\\":{\\\"chat_message\\\":{\\\"source\\\":\\\"critic\\\",\\\"models_usage\\\":{\\\"prompt_tokens\\\":83,\\\"completion_tokens\\\":3},\\\"metadata\\\":{}},\\\"inner_messages\\\":[]}}\", \"sender\": \"critic_420844e9-f5f6-4dcc-ad8e-2e221efd7775/420844e9-f5f6-4dcc-ad8e-2e221efd7775\", \"receiver\": null, \"kind\": \"MessageKind.PUBLISH\", \"delivery_stage\": \"DeliveryStage.DELIVER\", \"type\": \"Message\"}\n",
      "INFO:autogen_core.events:{\"payload\": \"{\\\"agent_response\\\":{\\\"chat_message\\\":{\\\"source\\\":\\\"critic\\\",\\\"models_usage\\\":{\\\"prompt_tokens\\\":83,\\\"completion_tokens\\\":3},\\\"metadata\\\":{}},\\\"inner_messages\\\":[]}}\", \"sender\": \"critic_420844e9-f5f6-4dcc-ad8e-2e221efd7775/420844e9-f5f6-4dcc-ad8e-2e221efd7775\", \"receiver\": null, \"kind\": \"MessageKind.PUBLISH\", \"delivery_stage\": \"DeliveryStage.DELIVER\", \"type\": \"Message\"}\n",
      "{\"payload\": \"{\\\"agent_response\\\":{\\\"chat_message\\\":{\\\"source\\\":\\\"critic\\\",\\\"models_usage\\\":{\\\"prompt_tokens\\\":83,\\\"completion_tokens\\\":3},\\\"metadata\\\":{}},\\\"inner_messages\\\":[]}}\", \"sender\": \"critic_420844e9-f5f6-4dcc-ad8e-2e221efd7775/420844e9-f5f6-4dcc-ad8e-2e221efd7775\", \"receiver\": null, \"kind\": \"MessageKind.PUBLISH\", \"delivery_stage\": \"DeliveryStage.DELIVER\", \"type\": \"Message\"}\n",
      "{\"payload\": \"{\\\"agent_response\\\":{\\\"chat_message\\\":{\\\"source\\\":\\\"critic\\\",\\\"models_usage\\\":{\\\"prompt_tokens\\\":83,\\\"completion_tokens\\\":3},\\\"metadata\\\":{}},\\\"inner_messages\\\":[]}}\", \"sender\": \"critic_420844e9-f5f6-4dcc-ad8e-2e221efd7775/420844e9-f5f6-4dcc-ad8e-2e221efd7775\", \"receiver\": null, \"kind\": \"MessageKind.PUBLISH\", \"delivery_stage\": \"DeliveryStage.DELIVER\", \"type\": \"Message\"}\n",
      "{\"payload\": \"{\\\"agent_response\\\":{\\\"chat_message\\\":{\\\"source\\\":\\\"critic\\\",\\\"models_usage\\\":{\\\"prompt_tokens\\\":83,\\\"completion_tokens\\\":3},\\\"metadata\\\":{}},\\\"inner_messages\\\":[]}}\", \"sender\": \"critic_420844e9-f5f6-4dcc-ad8e-2e221efd7775/420844e9-f5f6-4dcc-ad8e-2e221efd7775\", \"receiver\": null, \"kind\": \"MessageKind.PUBLISH\", \"delivery_stage\": \"DeliveryStage.DELIVER\", \"type\": \"Message\"}\n",
      "INFO:autogen_core.events:{\"payload\": \"{\\\"agent_response\\\":{\\\"chat_message\\\":{\\\"source\\\":\\\"critic\\\",\\\"models_usage\\\":{\\\"prompt_tokens\\\":83,\\\"completion_tokens\\\":3},\\\"metadata\\\":{}},\\\"inner_messages\\\":[]}}\", \"sender\": \"critic_420844e9-f5f6-4dcc-ad8e-2e221efd7775/420844e9-f5f6-4dcc-ad8e-2e221efd7775\", \"receiver\": null, \"kind\": \"MessageKind.PUBLISH\", \"delivery_stage\": \"DeliveryStage.DELIVER\", \"type\": \"Message\"}\n",
      "{\"payload\": \"Message could not be serialized\", \"sender\": \"RoundRobinGroupChatManager_420844e9-f5f6-4dcc-ad8e-2e221efd7775/420844e9-f5f6-4dcc-ad8e-2e221efd7775\", \"receiver\": \"output_topic_420844e9-f5f6-4dcc-ad8e-2e221efd7775/420844e9-f5f6-4dcc-ad8e-2e221efd7775\", \"kind\": \"MessageKind.PUBLISH\", \"delivery_stage\": \"DeliveryStage.SEND\", \"type\": \"Message\"}\n",
      "{\"payload\": \"Message could not be serialized\", \"sender\": \"RoundRobinGroupChatManager_420844e9-f5f6-4dcc-ad8e-2e221efd7775/420844e9-f5f6-4dcc-ad8e-2e221efd7775\", \"receiver\": \"output_topic_420844e9-f5f6-4dcc-ad8e-2e221efd7775/420844e9-f5f6-4dcc-ad8e-2e221efd7775\", \"kind\": \"MessageKind.PUBLISH\", \"delivery_stage\": \"DeliveryStage.SEND\", \"type\": \"Message\"}\n",
      "{\"payload\": \"Message could not be serialized\", \"sender\": \"RoundRobinGroupChatManager_420844e9-f5f6-4dcc-ad8e-2e221efd7775/420844e9-f5f6-4dcc-ad8e-2e221efd7775\", \"receiver\": \"output_topic_420844e9-f5f6-4dcc-ad8e-2e221efd7775/420844e9-f5f6-4dcc-ad8e-2e221efd7775\", \"kind\": \"MessageKind.PUBLISH\", \"delivery_stage\": \"DeliveryStage.SEND\", \"type\": \"Message\"}\n",
      "INFO:autogen_core.events:{\"payload\": \"Message could not be serialized\", \"sender\": \"RoundRobinGroupChatManager_420844e9-f5f6-4dcc-ad8e-2e221efd7775/420844e9-f5f6-4dcc-ad8e-2e221efd7775\", \"receiver\": \"output_topic_420844e9-f5f6-4dcc-ad8e-2e221efd7775/420844e9-f5f6-4dcc-ad8e-2e221efd7775\", \"kind\": \"MessageKind.PUBLISH\", \"delivery_stage\": \"DeliveryStage.SEND\", \"type\": \"Message\"}\n"
     ]
    },
    {
     "name": "stdout",
     "output_type": "stream",
     "text": [
      "---------- TextMessage (critic) ----------\n",
      "APPROVE\n"
     ]
    },
    {
     "data": {
      "text/plain": [
       "TaskResult(messages=[TextMessage(source='user', models_usage=None, metadata={}, content='写一首关于春天的诗。', type='TextMessage'), TextMessage(source='primary', models_usage=RequestUsage(prompt_tokens=15, completion_tokens=55), metadata={}, content='《三月的信笺》\\n\\n\\n东风解开冰的绳结，\\n把整季的私语，\\n折成柳叶的形状。\\n\\n泥土深处，\\n蚯蚓在翻译，\\n冬天留下的密码。\\n\\n而所有等待绽放的，\\n都签收了，\\n阳光的邮戳。', type='TextMessage'), TextMessage(source='critic', models_usage=RequestUsage(prompt_tokens=83, completion_tokens=3), metadata={}, content='APPROVE', type='TextMessage')], stop_reason=\"Text 'APPROVE' mentioned\")"
      ]
     },
     "execution_count": 30,
     "metadata": {},
     "output_type": "execute_result"
    }
   ],
   "source": [
    "await Console(team.run_stream(task=\"写一个龟兔赛跑的故事。\"))"
   ]
  },
  {
   "cell_type": "code",
   "execution_count": 31,
   "id": "765bb682",
   "metadata": {},
   "outputs": [],
   "source": [
    "await model_client.close()"
   ]
  }
 ],
 "metadata": {
  "kernelspec": {
   "display_name": "Python 3",
   "language": "python",
   "name": "python3"
  },
  "language_info": {
   "codemirror_mode": {
    "name": "ipython",
    "version": 3
   },
   "file_extension": ".py",
   "mimetype": "text/x-python",
   "name": "python",
   "nbconvert_exporter": "python",
   "pygments_lexer": "ipython3",
   "version": "3.12.10"
  }
 },
 "nbformat": 4,
 "nbformat_minor": 5
}
