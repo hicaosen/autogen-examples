{
 "cells": [
  {
   "cell_type": "code",
   "execution_count": 8,
   "id": "1ef3b21a",
   "metadata": {},
   "outputs": [
    {
     "name": "stdout",
     "output_type": "stream",
     "text": [
      "Defaulting to user installation because normal site-packages is not writeable\n",
      "Requirement already satisfied: autogen-agentchat in /home/vscode/.local/lib/python3.12/site-packages (0.5.7)\n",
      "Requirement already satisfied: python-dotenv in /home/vscode/.local/lib/python3.12/site-packages (1.1.0)\n",
      "Requirement already satisfied: autogen-ext[openai] in /home/vscode/.local/lib/python3.12/site-packages (0.5.7)\n",
      "Requirement already satisfied: autogen-core==0.5.7 in /home/vscode/.local/lib/python3.12/site-packages (from autogen-agentchat) (0.5.7)\n",
      "Requirement already satisfied: jsonref~=1.1.0 in /home/vscode/.local/lib/python3.12/site-packages (from autogen-core==0.5.7->autogen-agentchat) (1.1.0)\n",
      "Requirement already satisfied: opentelemetry-api>=1.27.0 in /home/vscode/.local/lib/python3.12/site-packages (from autogen-core==0.5.7->autogen-agentchat) (1.33.1)\n",
      "Requirement already satisfied: pillow>=11.0.0 in /home/vscode/.local/lib/python3.12/site-packages (from autogen-core==0.5.7->autogen-agentchat) (11.2.1)\n",
      "Requirement already satisfied: protobuf~=5.29.3 in /home/vscode/.local/lib/python3.12/site-packages (from autogen-core==0.5.7->autogen-agentchat) (5.29.4)\n",
      "Requirement already satisfied: pydantic<3.0.0,>=2.10.0 in /home/vscode/.local/lib/python3.12/site-packages (from autogen-core==0.5.7->autogen-agentchat) (2.11.5)\n",
      "Requirement already satisfied: typing-extensions>=4.0.0 in /home/vscode/.local/lib/python3.12/site-packages (from autogen-core==0.5.7->autogen-agentchat) (4.13.2)\n",
      "Requirement already satisfied: aiofiles in /home/vscode/.local/lib/python3.12/site-packages (from autogen-ext[openai]) (24.1.0)\n",
      "Requirement already satisfied: openai>=1.66.5 in /home/vscode/.local/lib/python3.12/site-packages (from autogen-ext[openai]) (1.82.0)\n",
      "Requirement already satisfied: tiktoken>=0.8.0 in /home/vscode/.local/lib/python3.12/site-packages (from autogen-ext[openai]) (0.9.0)\n",
      "Requirement already satisfied: anyio<5,>=3.5.0 in /home/vscode/.local/lib/python3.12/site-packages (from openai>=1.66.5->autogen-ext[openai]) (4.9.0)\n",
      "Requirement already satisfied: distro<2,>=1.7.0 in /home/vscode/.local/lib/python3.12/site-packages (from openai>=1.66.5->autogen-ext[openai]) (1.9.0)\n",
      "Requirement already satisfied: httpx<1,>=0.23.0 in /home/vscode/.local/lib/python3.12/site-packages (from openai>=1.66.5->autogen-ext[openai]) (0.28.1)\n",
      "Requirement already satisfied: jiter<1,>=0.4.0 in /home/vscode/.local/lib/python3.12/site-packages (from openai>=1.66.5->autogen-ext[openai]) (0.10.0)\n",
      "Requirement already satisfied: sniffio in /home/vscode/.local/lib/python3.12/site-packages (from openai>=1.66.5->autogen-ext[openai]) (1.3.1)\n",
      "Requirement already satisfied: tqdm>4 in /home/vscode/.local/lib/python3.12/site-packages (from openai>=1.66.5->autogen-ext[openai]) (4.67.1)\n",
      "Requirement already satisfied: regex>=2022.1.18 in /home/vscode/.local/lib/python3.12/site-packages (from tiktoken>=0.8.0->autogen-ext[openai]) (2024.11.6)\n",
      "Requirement already satisfied: requests>=2.26.0 in /home/vscode/.local/lib/python3.12/site-packages (from tiktoken>=0.8.0->autogen-ext[openai]) (2.32.3)\n",
      "Requirement already satisfied: idna>=2.8 in /home/vscode/.local/lib/python3.12/site-packages (from anyio<5,>=3.5.0->openai>=1.66.5->autogen-ext[openai]) (3.10)\n",
      "Requirement already satisfied: certifi in /home/vscode/.local/lib/python3.12/site-packages (from httpx<1,>=0.23.0->openai>=1.66.5->autogen-ext[openai]) (2025.4.26)\n",
      "Requirement already satisfied: httpcore==1.* in /home/vscode/.local/lib/python3.12/site-packages (from httpx<1,>=0.23.0->openai>=1.66.5->autogen-ext[openai]) (1.0.9)\n",
      "Requirement already satisfied: h11>=0.16 in /home/vscode/.local/lib/python3.12/site-packages (from httpcore==1.*->httpx<1,>=0.23.0->openai>=1.66.5->autogen-ext[openai]) (0.16.0)\n",
      "Requirement already satisfied: deprecated>=1.2.6 in /home/vscode/.local/lib/python3.12/site-packages (from opentelemetry-api>=1.27.0->autogen-core==0.5.7->autogen-agentchat) (1.2.18)\n",
      "Requirement already satisfied: importlib-metadata<8.7.0,>=6.0 in /home/vscode/.local/lib/python3.12/site-packages (from opentelemetry-api>=1.27.0->autogen-core==0.5.7->autogen-agentchat) (8.6.1)\n",
      "Requirement already satisfied: annotated-types>=0.6.0 in /home/vscode/.local/lib/python3.12/site-packages (from pydantic<3.0.0,>=2.10.0->autogen-core==0.5.7->autogen-agentchat) (0.7.0)\n",
      "Requirement already satisfied: pydantic-core==2.33.2 in /home/vscode/.local/lib/python3.12/site-packages (from pydantic<3.0.0,>=2.10.0->autogen-core==0.5.7->autogen-agentchat) (2.33.2)\n",
      "Requirement already satisfied: typing-inspection>=0.4.0 in /home/vscode/.local/lib/python3.12/site-packages (from pydantic<3.0.0,>=2.10.0->autogen-core==0.5.7->autogen-agentchat) (0.4.1)\n",
      "Requirement already satisfied: charset-normalizer<4,>=2 in /home/vscode/.local/lib/python3.12/site-packages (from requests>=2.26.0->tiktoken>=0.8.0->autogen-ext[openai]) (3.4.2)\n",
      "Requirement already satisfied: urllib3<3,>=1.21.1 in /home/vscode/.local/lib/python3.12/site-packages (from requests>=2.26.0->tiktoken>=0.8.0->autogen-ext[openai]) (2.4.0)\n",
      "Requirement already satisfied: wrapt<2,>=1.10 in /home/vscode/.local/lib/python3.12/site-packages (from deprecated>=1.2.6->opentelemetry-api>=1.27.0->autogen-core==0.5.7->autogen-agentchat) (1.17.2)\n",
      "Requirement already satisfied: zipp>=3.20 in /home/vscode/.local/lib/python3.12/site-packages (from importlib-metadata<8.7.0,>=6.0->opentelemetry-api>=1.27.0->autogen-core==0.5.7->autogen-agentchat) (3.22.0)\n",
      "\n",
      "\u001b[1m[\u001b[0m\u001b[34;49mnotice\u001b[0m\u001b[1;39;49m]\u001b[0m\u001b[39;49m A new release of pip is available: \u001b[0m\u001b[31;49m25.0.1\u001b[0m\u001b[39;49m -> \u001b[0m\u001b[32;49m25.1.1\u001b[0m\n",
      "\u001b[1m[\u001b[0m\u001b[34;49mnotice\u001b[0m\u001b[1;39;49m]\u001b[0m\u001b[39;49m To update, run: \u001b[0m\u001b[32;49mpip install --upgrade pip\u001b[0m\n",
      "Note: you may need to restart the kernel to use updated packages.\n"
     ]
    }
   ],
   "source": [
    "%pip install -U \"autogen-agentchat\" \"autogen-ext[openai]\" \"python-dotenv\""
   ]
  },
  {
   "cell_type": "code",
   "execution_count": 9,
   "id": "7cff4347",
   "metadata": {},
   "outputs": [],
   "source": [
    "import os\n",
    "import logging\n",
    "from autogen_core import EVENT_LOGGER_NAME\n",
    "from dotenv import load_dotenv\n",
    "from autogen_core.models import ModelFamily\n",
    "from autogen_agentchat.agents import AssistantAgent\n",
    "from autogen_ext.models.openai import OpenAIChatCompletionClient\n",
    "from autogen_agentchat.ui import Console"
   ]
  },
  {
   "cell_type": "code",
   "execution_count": 10,
   "id": "333df603",
   "metadata": {},
   "outputs": [],
   "source": [
    "logging.basicConfig(level=logging.WARNING)\n",
    "logger = logging.getLogger(EVENT_LOGGER_NAME)\n",
    "logger.addHandler(logging.StreamHandler())\n",
    "logger.setLevel(logging.INFO)"
   ]
  },
  {
   "cell_type": "code",
   "execution_count": 11,
   "id": "68eb4b23",
   "metadata": {},
   "outputs": [],
   "source": [
    "async def get_weather(city: str) -> str:\n",
    "    \"\"\"获取指定城市的天气信息。\"\"\"\n",
    "    return f\"{city}的天气是29度，多云。\""
   ]
  },
  {
   "cell_type": "code",
   "execution_count": 12,
   "id": "c7893dde",
   "metadata": {},
   "outputs": [],
   "source": [
    "load_dotenv()\n",
    "model_client = OpenAIChatCompletionClient(\n",
    "    base_url=os.getenv('BASE_URL'),\n",
    "    api_key=os.getenv('API_KEY'),\n",
    "    model=os.getenv('MODEL'),\n",
    "    model_info={\n",
    "        \"vision\": False,\n",
    "        \"function_calling\": True,\n",
    "        \"json_output\": False,\n",
    "        \"family\": ModelFamily.UNKNOWN,\n",
    "        \"structured_output\": False\n",
    "    },\n",
    ")"
   ]
  },
  {
   "cell_type": "code",
   "execution_count": 13,
   "id": "547f1a84",
   "metadata": {},
   "outputs": [
    {
     "name": "stdout",
     "output_type": "stream",
     "text": [
      "---------- TextMessage (user) ----------\n",
      "北京明天的天气怎么样？\n"
     ]
    },
    {
     "name": "stderr",
     "output_type": "stream",
     "text": [
      "{\"type\": \"LLMStreamStart\", \"messages\": [{\"content\": \"\\u4f60\\u662f\\u4e00\\u4e2a\\u8d85\\u7ea7\\u6709\\u7528\\u7684\\u52a9\\u624b\\u3002\", \"role\": \"system\"}, {\"role\": \"user\", \"name\": \"user\", \"content\": \"\\u5317\\u4eac\\u660e\\u5929\\u7684\\u5929\\u6c14\\u600e\\u4e48\\u6837\\uff1f\"}], \"agent_id\": null}\n",
      "INFO:autogen_core.events:{\"type\": \"LLMStreamStart\", \"messages\": [{\"content\": \"\\u4f60\\u662f\\u4e00\\u4e2a\\u8d85\\u7ea7\\u6709\\u7528\\u7684\\u52a9\\u624b\\u3002\", \"role\": \"system\"}, {\"role\": \"user\", \"name\": \"user\", \"content\": \"\\u5317\\u4eac\\u660e\\u5929\\u7684\\u5929\\u6c14\\u600e\\u4e48\\u6837\\uff1f\"}], \"agent_id\": null}\n",
      "{\"type\": \"LLMStreamEnd\", \"response\": {\"finish_reason\": \"unknown\", \"content\": [{\"id\": \"call_0_0756b450-e745-4509-a652-d8251061ab51\", \"arguments\": \"{\\\"city\\\":\\\"\\u5317\\u4eac\\\"}\", \"name\": \"get_weather\"}], \"usage\": {\"prompt_tokens\": 128, \"completion_tokens\": 20}, \"cached\": false, \"logprobs\": null, \"thought\": null}, \"prompt_tokens\": 128, \"completion_tokens\": 20, \"agent_id\": null}\n",
      "INFO:autogen_core.events:{\"type\": \"LLMStreamEnd\", \"response\": {\"finish_reason\": \"unknown\", \"content\": [{\"id\": \"call_0_0756b450-e745-4509-a652-d8251061ab51\", \"arguments\": \"{\\\"city\\\":\\\"\\u5317\\u4eac\\\"}\", \"name\": \"get_weather\"}], \"usage\": {\"prompt_tokens\": 128, \"completion_tokens\": 20}, \"cached\": false, \"logprobs\": null, \"thought\": null}, \"prompt_tokens\": 128, \"completion_tokens\": 20, \"agent_id\": null}\n"
     ]
    },
    {
     "name": "stdout",
     "output_type": "stream",
     "text": [
      "---------- ToolCallRequestEvent (weather_agent) ----------\n",
      "[FunctionCall(id='call_0_0756b450-e745-4509-a652-d8251061ab51', arguments='{\"city\":\"北京\"}', name='get_weather')]\n",
      "[Prompt tokens: 128, Completion tokens: 20]\n"
     ]
    },
    {
     "name": "stderr",
     "output_type": "stream",
     "text": [
      "{\"type\": \"ToolCall\", \"tool_name\": \"get_weather\", \"arguments\": {\"city\": \"\\u5317\\u4eac\"}, \"result\": \"\\u5317\\u4eac\\u7684\\u5929\\u6c14\\u662f29\\u5ea6\\uff0c\\u591a\\u4e91\\u3002\", \"agent_id\": null}\n",
      "INFO:autogen_core.events:{\"type\": \"ToolCall\", \"tool_name\": \"get_weather\", \"arguments\": {\"city\": \"\\u5317\\u4eac\"}, \"result\": \"\\u5317\\u4eac\\u7684\\u5929\\u6c14\\u662f29\\u5ea6\\uff0c\\u591a\\u4e91\\u3002\", \"agent_id\": null}\n"
     ]
    },
    {
     "name": "stdout",
     "output_type": "stream",
     "text": [
      "---------- ToolCallExecutionEvent (weather_agent) ----------\n",
      "[FunctionExecutionResult(content='北京的天气是29度，多云。', name='get_weather', call_id='call_0_0756b450-e745-4509-a652-d8251061ab51', is_error=False)]\n"
     ]
    },
    {
     "name": "stderr",
     "output_type": "stream",
     "text": [
      "{\"type\": \"LLMStreamStart\", \"messages\": [{\"content\": \"\\u4f60\\u662f\\u4e00\\u4e2a\\u8d85\\u7ea7\\u6709\\u7528\\u7684\\u52a9\\u624b\\u3002\", \"role\": \"system\"}, {\"role\": \"user\", \"name\": \"user\", \"content\": \"\\u5317\\u4eac\\u660e\\u5929\\u7684\\u5929\\u6c14\\u600e\\u4e48\\u6837\\uff1f\"}, {\"role\": \"assistant\", \"tool_calls\": [{\"id\": \"call_0_0756b450-e745-4509-a652-d8251061ab51\", \"function\": {\"arguments\": \"{\\\"city\\\":\\\"\\u5317\\u4eac\\\"}\", \"name\": \"get_weather\"}, \"type\": \"function\"}]}, {\"content\": \"\\u5317\\u4eac\\u7684\\u5929\\u6c14\\u662f29\\u5ea6\\uff0c\\u591a\\u4e91\\u3002\", \"role\": \"tool\", \"tool_call_id\": \"call_0_0756b450-e745-4509-a652-d8251061ab51\"}], \"agent_id\": null}\n",
      "INFO:autogen_core.events:{\"type\": \"LLMStreamStart\", \"messages\": [{\"content\": \"\\u4f60\\u662f\\u4e00\\u4e2a\\u8d85\\u7ea7\\u6709\\u7528\\u7684\\u52a9\\u624b\\u3002\", \"role\": \"system\"}, {\"role\": \"user\", \"name\": \"user\", \"content\": \"\\u5317\\u4eac\\u660e\\u5929\\u7684\\u5929\\u6c14\\u600e\\u4e48\\u6837\\uff1f\"}, {\"role\": \"assistant\", \"tool_calls\": [{\"id\": \"call_0_0756b450-e745-4509-a652-d8251061ab51\", \"function\": {\"arguments\": \"{\\\"city\\\":\\\"\\u5317\\u4eac\\\"}\", \"name\": \"get_weather\"}, \"type\": \"function\"}]}, {\"content\": \"\\u5317\\u4eac\\u7684\\u5929\\u6c14\\u662f29\\u5ea6\\uff0c\\u591a\\u4e91\\u3002\", \"role\": \"tool\", \"tool_call_id\": \"call_0_0756b450-e745-4509-a652-d8251061ab51\"}], \"agent_id\": null}\n"
     ]
    },
    {
     "name": "stdout",
     "output_type": "stream",
     "text": [
      "---------- ModelClientStreamingChunkEvent (weather_agent) ----------\n",
      "北京明天的天气是多云，气温29度。记得根据实际情况增减衣物哦！"
     ]
    },
    {
     "name": "stderr",
     "output_type": "stream",
     "text": [
      "{\"type\": \"LLMStreamEnd\", \"response\": {\"finish_reason\": \"unknown\", \"content\": \"\\u5317\\u4eac\\u660e\\u5929\\u7684\\u5929\\u6c14\\u662f\\u591a\\u4e91\\uff0c\\u6c14\\u6e2929\\u5ea6\\u3002\\u8bb0\\u5f97\\u6839\\u636e\\u5b9e\\u9645\\u60c5\\u51b5\\u589e\\u51cf\\u8863\\u7269\\u54e6\\uff01\", \"usage\": {\"prompt_tokens\": 46, \"completion_tokens\": 17}, \"cached\": false, \"logprobs\": null, \"thought\": null}, \"prompt_tokens\": 46, \"completion_tokens\": 17, \"agent_id\": null}\n",
      "INFO:autogen_core.events:{\"type\": \"LLMStreamEnd\", \"response\": {\"finish_reason\": \"unknown\", \"content\": \"\\u5317\\u4eac\\u660e\\u5929\\u7684\\u5929\\u6c14\\u662f\\u591a\\u4e91\\uff0c\\u6c14\\u6e2929\\u5ea6\\u3002\\u8bb0\\u5f97\\u6839\\u636e\\u5b9e\\u9645\\u60c5\\u51b5\\u589e\\u51cf\\u8863\\u7269\\u54e6\\uff01\", \"usage\": {\"prompt_tokens\": 46, \"completion_tokens\": 17}, \"cached\": false, \"logprobs\": null, \"thought\": null}, \"prompt_tokens\": 46, \"completion_tokens\": 17, \"agent_id\": null}\n"
     ]
    },
    {
     "name": "stdout",
     "output_type": "stream",
     "text": [
      "\n",
      "[Prompt tokens: 46, Completion tokens: 17]\n",
      "---------- Summary ----------\n",
      "Number of messages: 4\n",
      "Finish reason: None\n",
      "Total prompt tokens: 174\n",
      "Total completion tokens: 37\n",
      "Duration: 11.54 seconds\n"
     ]
    },
    {
     "data": {
      "text/plain": [
       "TaskResult(messages=[TextMessage(source='user', models_usage=None, metadata={}, content='北京明天的天气怎么样？', type='TextMessage'), ToolCallRequestEvent(source='weather_agent', models_usage=RequestUsage(prompt_tokens=128, completion_tokens=20), metadata={}, content=[FunctionCall(id='call_0_0756b450-e745-4509-a652-d8251061ab51', arguments='{\"city\":\"北京\"}', name='get_weather')], type='ToolCallRequestEvent'), ToolCallExecutionEvent(source='weather_agent', models_usage=None, metadata={}, content=[FunctionExecutionResult(content='北京的天气是29度，多云。', name='get_weather', call_id='call_0_0756b450-e745-4509-a652-d8251061ab51', is_error=False)], type='ToolCallExecutionEvent'), TextMessage(source='weather_agent', models_usage=RequestUsage(prompt_tokens=46, completion_tokens=17), metadata={}, content='北京明天的天气是多云，气温29度。记得根据实际情况增减衣物哦！', type='TextMessage')], stop_reason=None)"
      ]
     },
     "execution_count": 13,
     "metadata": {},
     "output_type": "execute_result"
    }
   ],
   "source": [
    "agent = AssistantAgent(\n",
    "    name=\"weather_agent\",\n",
    "    model_client=model_client,\n",
    "    tools=[get_weather],\n",
    "    system_message=\"你是一个超级有用的助手。\",\n",
    "    reflect_on_tool_use=True,\n",
    "    model_client_stream=True\n",
    "\n",
    ")\n",
    "await Console(agent.run_stream(task=\"北京明天的天气怎么样？\"), output_stats=True)"
   ]
  },
  {
   "cell_type": "code",
   "execution_count": 14,
   "id": "89358b7f",
   "metadata": {},
   "outputs": [],
   "source": [
    "await model_client.close()"
   ]
  }
 ],
 "metadata": {
  "kernelspec": {
   "display_name": "Python 3",
   "language": "python",
   "name": "python3"
  },
  "language_info": {
   "codemirror_mode": {
    "name": "ipython",
    "version": 3
   },
   "file_extension": ".py",
   "mimetype": "text/x-python",
   "name": "python",
   "nbconvert_exporter": "python",
   "pygments_lexer": "ipython3",
   "version": "3.12.10"
  }
 },
 "nbformat": 4,
 "nbformat_minor": 5
}
