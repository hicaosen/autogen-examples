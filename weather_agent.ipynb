{
 "cells": [
  {
   "cell_type": "code",
   "execution_count": 1,
   "id": "1ef3b21a",
   "metadata": {},
   "outputs": [
    {
     "name": "stdout",
     "output_type": "stream",
     "text": [
      "Defaulting to user installation because normal site-packages is not writeable\n",
      "Requirement already satisfied: autogen-agentchat in /home/vscode/.local/lib/python3.12/site-packages (0.5.7)\n",
      "Requirement already satisfied: python-dotenv in /home/vscode/.local/lib/python3.12/site-packages (1.1.0)\n",
      "Requirement already satisfied: autogen-ext[openai] in /home/vscode/.local/lib/python3.12/site-packages (0.5.7)\n",
      "Requirement already satisfied: autogen-core==0.5.7 in /home/vscode/.local/lib/python3.12/site-packages (from autogen-agentchat) (0.5.7)\n",
      "Requirement already satisfied: jsonref~=1.1.0 in /home/vscode/.local/lib/python3.12/site-packages (from autogen-core==0.5.7->autogen-agentchat) (1.1.0)\n",
      "Requirement already satisfied: opentelemetry-api>=1.27.0 in /home/vscode/.local/lib/python3.12/site-packages (from autogen-core==0.5.7->autogen-agentchat) (1.33.1)\n",
      "Requirement already satisfied: pillow>=11.0.0 in /home/vscode/.local/lib/python3.12/site-packages (from autogen-core==0.5.7->autogen-agentchat) (11.2.1)\n",
      "Requirement already satisfied: protobuf~=5.29.3 in /home/vscode/.local/lib/python3.12/site-packages (from autogen-core==0.5.7->autogen-agentchat) (5.29.4)\n",
      "Requirement already satisfied: pydantic<3.0.0,>=2.10.0 in /home/vscode/.local/lib/python3.12/site-packages (from autogen-core==0.5.7->autogen-agentchat) (2.11.5)\n",
      "Requirement already satisfied: typing-extensions>=4.0.0 in /home/vscode/.local/lib/python3.12/site-packages (from autogen-core==0.5.7->autogen-agentchat) (4.13.2)\n",
      "Requirement already satisfied: aiofiles in /home/vscode/.local/lib/python3.12/site-packages (from autogen-ext[openai]) (24.1.0)\n",
      "Requirement already satisfied: openai>=1.66.5 in /home/vscode/.local/lib/python3.12/site-packages (from autogen-ext[openai]) (1.82.0)\n",
      "Requirement already satisfied: tiktoken>=0.8.0 in /home/vscode/.local/lib/python3.12/site-packages (from autogen-ext[openai]) (0.9.0)\n",
      "Requirement already satisfied: anyio<5,>=3.5.0 in /home/vscode/.local/lib/python3.12/site-packages (from openai>=1.66.5->autogen-ext[openai]) (4.9.0)\n",
      "Requirement already satisfied: distro<2,>=1.7.0 in /home/vscode/.local/lib/python3.12/site-packages (from openai>=1.66.5->autogen-ext[openai]) (1.9.0)\n",
      "Requirement already satisfied: httpx<1,>=0.23.0 in /home/vscode/.local/lib/python3.12/site-packages (from openai>=1.66.5->autogen-ext[openai]) (0.28.1)\n",
      "Requirement already satisfied: jiter<1,>=0.4.0 in /home/vscode/.local/lib/python3.12/site-packages (from openai>=1.66.5->autogen-ext[openai]) (0.10.0)\n",
      "Requirement already satisfied: sniffio in /home/vscode/.local/lib/python3.12/site-packages (from openai>=1.66.5->autogen-ext[openai]) (1.3.1)\n",
      "Requirement already satisfied: tqdm>4 in /home/vscode/.local/lib/python3.12/site-packages (from openai>=1.66.5->autogen-ext[openai]) (4.67.1)\n",
      "Requirement already satisfied: regex>=2022.1.18 in /home/vscode/.local/lib/python3.12/site-packages (from tiktoken>=0.8.0->autogen-ext[openai]) (2024.11.6)\n",
      "Requirement already satisfied: requests>=2.26.0 in /home/vscode/.local/lib/python3.12/site-packages (from tiktoken>=0.8.0->autogen-ext[openai]) (2.32.3)\n",
      "Requirement already satisfied: idna>=2.8 in /home/vscode/.local/lib/python3.12/site-packages (from anyio<5,>=3.5.0->openai>=1.66.5->autogen-ext[openai]) (3.10)\n",
      "Requirement already satisfied: certifi in /home/vscode/.local/lib/python3.12/site-packages (from httpx<1,>=0.23.0->openai>=1.66.5->autogen-ext[openai]) (2025.4.26)\n",
      "Requirement already satisfied: httpcore==1.* in /home/vscode/.local/lib/python3.12/site-packages (from httpx<1,>=0.23.0->openai>=1.66.5->autogen-ext[openai]) (1.0.9)\n",
      "Requirement already satisfied: h11>=0.16 in /home/vscode/.local/lib/python3.12/site-packages (from httpcore==1.*->httpx<1,>=0.23.0->openai>=1.66.5->autogen-ext[openai]) (0.16.0)\n",
      "Requirement already satisfied: deprecated>=1.2.6 in /home/vscode/.local/lib/python3.12/site-packages (from opentelemetry-api>=1.27.0->autogen-core==0.5.7->autogen-agentchat) (1.2.18)\n",
      "Requirement already satisfied: importlib-metadata<8.7.0,>=6.0 in /home/vscode/.local/lib/python3.12/site-packages (from opentelemetry-api>=1.27.0->autogen-core==0.5.7->autogen-agentchat) (8.6.1)\n",
      "Requirement already satisfied: annotated-types>=0.6.0 in /home/vscode/.local/lib/python3.12/site-packages (from pydantic<3.0.0,>=2.10.0->autogen-core==0.5.7->autogen-agentchat) (0.7.0)\n",
      "Requirement already satisfied: pydantic-core==2.33.2 in /home/vscode/.local/lib/python3.12/site-packages (from pydantic<3.0.0,>=2.10.0->autogen-core==0.5.7->autogen-agentchat) (2.33.2)\n",
      "Requirement already satisfied: typing-inspection>=0.4.0 in /home/vscode/.local/lib/python3.12/site-packages (from pydantic<3.0.0,>=2.10.0->autogen-core==0.5.7->autogen-agentchat) (0.4.1)\n",
      "Requirement already satisfied: charset-normalizer<4,>=2 in /home/vscode/.local/lib/python3.12/site-packages (from requests>=2.26.0->tiktoken>=0.8.0->autogen-ext[openai]) (3.4.2)\n",
      "Requirement already satisfied: urllib3<3,>=1.21.1 in /home/vscode/.local/lib/python3.12/site-packages (from requests>=2.26.0->tiktoken>=0.8.0->autogen-ext[openai]) (2.4.0)\n",
      "Requirement already satisfied: wrapt<2,>=1.10 in /home/vscode/.local/lib/python3.12/site-packages (from deprecated>=1.2.6->opentelemetry-api>=1.27.0->autogen-core==0.5.7->autogen-agentchat) (1.17.2)\n",
      "Requirement already satisfied: zipp>=3.20 in /home/vscode/.local/lib/python3.12/site-packages (from importlib-metadata<8.7.0,>=6.0->opentelemetry-api>=1.27.0->autogen-core==0.5.7->autogen-agentchat) (3.22.0)\n",
      "\n",
      "\u001b[1m[\u001b[0m\u001b[34;49mnotice\u001b[0m\u001b[1;39;49m]\u001b[0m\u001b[39;49m A new release of pip is available: \u001b[0m\u001b[31;49m25.0.1\u001b[0m\u001b[39;49m -> \u001b[0m\u001b[32;49m25.1.1\u001b[0m\n",
      "\u001b[1m[\u001b[0m\u001b[34;49mnotice\u001b[0m\u001b[1;39;49m]\u001b[0m\u001b[39;49m To update, run: \u001b[0m\u001b[32;49mpip install --upgrade pip\u001b[0m\n",
      "Note: you may need to restart the kernel to use updated packages.\n"
     ]
    }
   ],
   "source": [
    "%pip install -U \"autogen-agentchat\" \"autogen-ext[openai]\" \"python-dotenv\""
   ]
  },
  {
   "cell_type": "code",
   "execution_count": 2,
   "id": "7cff4347",
   "metadata": {},
   "outputs": [],
   "source": [
    "import os\n",
    "import asyncio\n",
    "from dotenv import load_dotenv\n",
    "from autogen_core.models import ModelFamily\n",
    "from autogen_agentchat.agents import AssistantAgent\n",
    "from autogen_ext.models.openai import OpenAIChatCompletionClient\n",
    "from autogen_agentchat.ui import Console"
   ]
  },
  {
   "cell_type": "code",
   "execution_count": 3,
   "id": "a47a792f",
   "metadata": {},
   "outputs": [
    {
     "data": {
      "text/plain": [
       "True"
      ]
     },
     "execution_count": 3,
     "metadata": {},
     "output_type": "execute_result"
    }
   ],
   "source": [
    "load_dotenv()"
   ]
  },
  {
   "cell_type": "code",
   "execution_count": 4,
   "id": "68eb4b23",
   "metadata": {},
   "outputs": [],
   "source": [
    "async def get_weather(city: str) -> str:\n",
    "    \"\"\"获取指定城市的天气信息。\"\"\"\n",
    "    return f\"{city}的天气是29度，多云。\""
   ]
  },
  {
   "cell_type": "code",
   "execution_count": null,
   "id": "c7893dde",
   "metadata": {},
   "outputs": [
    {
     "name": "stdout",
     "output_type": "stream",
     "text": [
      "deepseek-chat\n",
      "---------- TextMessage (user) ----------\n",
      "北京明天的天气怎么样？\n",
      "---------- ToolCallRequestEvent (weather_agent) ----------\n",
      "[FunctionCall(id='call_0_39b0b344-8006-44aa-a97b-710e3863dcce', arguments='{\"city\":\"北京\"}', name='get_weather')]\n",
      "---------- ToolCallExecutionEvent (weather_agent) ----------\n",
      "[FunctionExecutionResult(content='北京的天气是29度，多云。', name='get_weather', call_id='call_0_39b0b344-8006-44aa-a97b-710e3863dcce', is_error=False)]\n",
      "---------- ModelClientStreamingChunkEvent (weather_agent) ----------\n",
      "北京明天的天气是多云，气温大约在29度左右。记得根据天气情况适当增减衣物哦！\n"
     ]
    }
   ],
   "source": [
    "model_client = OpenAIChatCompletionClient(\n",
    "    base_url=os.getenv('BASE_URL'),\n",
    "    api_key=os.getenv('API_KEY'),\n",
    "    model=os.getenv('MODEL'),\n",
    "    model_info={\n",
    "        \"vision\": False,\n",
    "        \"function_calling\": True,\n",
    "        \"json_output\": False,\n",
    "        \"family\": ModelFamily.UNKNOWN,\n",
    "        \"structured_output\": False\n",
    "    },\n",
    ")\n",
    "async def main() -> None:\n",
    "    agent = AssistantAgent(\n",
    "        name=\"weather_agent\",\n",
    "        model_client=model_client,\n",
    "        tools=[get_weather],\n",
    "        system_message=\"你是一个超级有用的助手。\",\n",
    "        reflect_on_tool_use=True,\n",
    "        model_client_stream=True\n",
    "\n",
    "    )\n",
    "    await Console(agent.run_stream(task=\"北京明天的天气怎么样？\"))\n",
    "    await model_client.close()\n",
    "\n",
    "await main()"
   ]
  }
 ],
 "metadata": {
  "kernelspec": {
   "display_name": "Python 3",
   "language": "python",
   "name": "python3"
  },
  "language_info": {
   "codemirror_mode": {
    "name": "ipython",
    "version": 3
   },
   "file_extension": ".py",
   "mimetype": "text/x-python",
   "name": "python",
   "nbconvert_exporter": "python",
   "pygments_lexer": "ipython3",
   "version": "3.12.10"
  }
 },
 "nbformat": 4,
 "nbformat_minor": 5
}
