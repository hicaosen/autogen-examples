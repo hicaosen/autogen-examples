{
 "cells": [
  {
   "cell_type": "code",
   "execution_count": 1,
   "id": "fb95e6f2",
   "metadata": {},
   "outputs": [
    {
     "name": "stdout",
     "output_type": "stream",
     "text": [
      "Defaulting to user installation because normal site-packages is not writeable\n",
      "Requirement already satisfied: autogen-agentchat in /home/vscode/.local/lib/python3.12/site-packages (0.5.7)\n",
      "Requirement already satisfied: python-dotenv in /home/vscode/.local/lib/python3.12/site-packages (1.1.0)\n",
      "Requirement already satisfied: autogen-ext[openai] in /home/vscode/.local/lib/python3.12/site-packages (0.5.7)\n",
      "Requirement already satisfied: autogen-core==0.5.7 in /home/vscode/.local/lib/python3.12/site-packages (from autogen-agentchat) (0.5.7)\n",
      "Requirement already satisfied: jsonref~=1.1.0 in /home/vscode/.local/lib/python3.12/site-packages (from autogen-core==0.5.7->autogen-agentchat) (1.1.0)\n",
      "Requirement already satisfied: opentelemetry-api>=1.27.0 in /home/vscode/.local/lib/python3.12/site-packages (from autogen-core==0.5.7->autogen-agentchat) (1.33.1)\n",
      "Requirement already satisfied: pillow>=11.0.0 in /home/vscode/.local/lib/python3.12/site-packages (from autogen-core==0.5.7->autogen-agentchat) (11.2.1)\n",
      "Requirement already satisfied: protobuf~=5.29.3 in /home/vscode/.local/lib/python3.12/site-packages (from autogen-core==0.5.7->autogen-agentchat) (5.29.4)\n",
      "Requirement already satisfied: pydantic<3.0.0,>=2.10.0 in /home/vscode/.local/lib/python3.12/site-packages (from autogen-core==0.5.7->autogen-agentchat) (2.11.5)\n",
      "Requirement already satisfied: typing-extensions>=4.0.0 in /home/vscode/.local/lib/python3.12/site-packages (from autogen-core==0.5.7->autogen-agentchat) (4.13.2)\n",
      "Requirement already satisfied: aiofiles in /home/vscode/.local/lib/python3.12/site-packages (from autogen-ext[openai]) (24.1.0)\n",
      "Requirement already satisfied: openai>=1.66.5 in /home/vscode/.local/lib/python3.12/site-packages (from autogen-ext[openai]) (1.82.0)\n",
      "Requirement already satisfied: tiktoken>=0.8.0 in /home/vscode/.local/lib/python3.12/site-packages (from autogen-ext[openai]) (0.9.0)\n",
      "Requirement already satisfied: anyio<5,>=3.5.0 in /home/vscode/.local/lib/python3.12/site-packages (from openai>=1.66.5->autogen-ext[openai]) (4.9.0)\n",
      "Requirement already satisfied: distro<2,>=1.7.0 in /home/vscode/.local/lib/python3.12/site-packages (from openai>=1.66.5->autogen-ext[openai]) (1.9.0)\n",
      "Requirement already satisfied: httpx<1,>=0.23.0 in /home/vscode/.local/lib/python3.12/site-packages (from openai>=1.66.5->autogen-ext[openai]) (0.28.1)\n",
      "Requirement already satisfied: jiter<1,>=0.4.0 in /home/vscode/.local/lib/python3.12/site-packages (from openai>=1.66.5->autogen-ext[openai]) (0.10.0)\n",
      "Requirement already satisfied: sniffio in /home/vscode/.local/lib/python3.12/site-packages (from openai>=1.66.5->autogen-ext[openai]) (1.3.1)\n",
      "Requirement already satisfied: tqdm>4 in /home/vscode/.local/lib/python3.12/site-packages (from openai>=1.66.5->autogen-ext[openai]) (4.67.1)\n",
      "Requirement already satisfied: regex>=2022.1.18 in /home/vscode/.local/lib/python3.12/site-packages (from tiktoken>=0.8.0->autogen-ext[openai]) (2024.11.6)\n",
      "Requirement already satisfied: requests>=2.26.0 in /home/vscode/.local/lib/python3.12/site-packages (from tiktoken>=0.8.0->autogen-ext[openai]) (2.32.3)\n",
      "Requirement already satisfied: idna>=2.8 in /home/vscode/.local/lib/python3.12/site-packages (from anyio<5,>=3.5.0->openai>=1.66.5->autogen-ext[openai]) (3.10)\n",
      "Requirement already satisfied: certifi in /home/vscode/.local/lib/python3.12/site-packages (from httpx<1,>=0.23.0->openai>=1.66.5->autogen-ext[openai]) (2025.4.26)\n",
      "Requirement already satisfied: httpcore==1.* in /home/vscode/.local/lib/python3.12/site-packages (from httpx<1,>=0.23.0->openai>=1.66.5->autogen-ext[openai]) (1.0.9)\n",
      "Requirement already satisfied: h11>=0.16 in /home/vscode/.local/lib/python3.12/site-packages (from httpcore==1.*->httpx<1,>=0.23.0->openai>=1.66.5->autogen-ext[openai]) (0.16.0)\n",
      "Requirement already satisfied: deprecated>=1.2.6 in /home/vscode/.local/lib/python3.12/site-packages (from opentelemetry-api>=1.27.0->autogen-core==0.5.7->autogen-agentchat) (1.2.18)\n",
      "Requirement already satisfied: importlib-metadata<8.7.0,>=6.0 in /home/vscode/.local/lib/python3.12/site-packages (from opentelemetry-api>=1.27.0->autogen-core==0.5.7->autogen-agentchat) (8.6.1)\n",
      "Requirement already satisfied: annotated-types>=0.6.0 in /home/vscode/.local/lib/python3.12/site-packages (from pydantic<3.0.0,>=2.10.0->autogen-core==0.5.7->autogen-agentchat) (0.7.0)\n",
      "Requirement already satisfied: pydantic-core==2.33.2 in /home/vscode/.local/lib/python3.12/site-packages (from pydantic<3.0.0,>=2.10.0->autogen-core==0.5.7->autogen-agentchat) (2.33.2)\n",
      "Requirement already satisfied: typing-inspection>=0.4.0 in /home/vscode/.local/lib/python3.12/site-packages (from pydantic<3.0.0,>=2.10.0->autogen-core==0.5.7->autogen-agentchat) (0.4.1)\n",
      "Requirement already satisfied: charset-normalizer<4,>=2 in /home/vscode/.local/lib/python3.12/site-packages (from requests>=2.26.0->tiktoken>=0.8.0->autogen-ext[openai]) (3.4.2)\n",
      "Requirement already satisfied: urllib3<3,>=1.21.1 in /home/vscode/.local/lib/python3.12/site-packages (from requests>=2.26.0->tiktoken>=0.8.0->autogen-ext[openai]) (2.4.0)\n",
      "Requirement already satisfied: wrapt<2,>=1.10 in /home/vscode/.local/lib/python3.12/site-packages (from deprecated>=1.2.6->opentelemetry-api>=1.27.0->autogen-core==0.5.7->autogen-agentchat) (1.17.2)\n",
      "Requirement already satisfied: zipp>=3.20 in /home/vscode/.local/lib/python3.12/site-packages (from importlib-metadata<8.7.0,>=6.0->opentelemetry-api>=1.27.0->autogen-core==0.5.7->autogen-agentchat) (3.22.0)\n",
      "\n",
      "\u001b[1m[\u001b[0m\u001b[34;49mnotice\u001b[0m\u001b[1;39;49m]\u001b[0m\u001b[39;49m A new release of pip is available: \u001b[0m\u001b[31;49m25.0.1\u001b[0m\u001b[39;49m -> \u001b[0m\u001b[32;49m25.1.1\u001b[0m\n",
      "\u001b[1m[\u001b[0m\u001b[34;49mnotice\u001b[0m\u001b[1;39;49m]\u001b[0m\u001b[39;49m To update, run: \u001b[0m\u001b[32;49mpip install --upgrade pip\u001b[0m\n",
      "Note: you may need to restart the kernel to use updated packages.\n"
     ]
    }
   ],
   "source": [
    "%pip install -U \"autogen-agentchat\" \"autogen-ext[openai]\" \"python-dotenv\""
   ]
  },
  {
   "cell_type": "code",
   "execution_count": 2,
   "id": "45e621eb",
   "metadata": {},
   "outputs": [],
   "source": [
    "import os\n",
    "from dotenv import load_dotenv\n",
    "from autogen_agentchat.agents import AssistantAgent\n",
    "from autogen_core.models import ModelFamily\n",
    "from autogen_ext.models.openai import OpenAIChatCompletionClient\n",
    "from autogen_agentchat.conditions import TextMessageTermination\n",
    "from autogen_agentchat.teams import RoundRobinGroupChat\n",
    "from autogen_agentchat.ui import Console"
   ]
  },
  {
   "cell_type": "code",
   "execution_count": 3,
   "id": "6e19ab2d",
   "metadata": {},
   "outputs": [],
   "source": [
    "load_dotenv()\n",
    "model_client = OpenAIChatCompletionClient(\n",
    "    base_url=os.getenv('BASE_URL'),\n",
    "    model=os.getenv(\"MODEL\"),\n",
    "    api_key=os.getenv('API_KEY'),\n",
    "    model_info={\n",
    "        \"vision\":False,\n",
    "        \"json_output\":False,\n",
    "        \"function_calling\":True,\n",
    "        \"family\": ModelFamily.UNKNOWN,\n",
    "        \"structured_output\":False\n",
    "    }\n",
    ")"
   ]
  },
  {
   "cell_type": "code",
   "execution_count": 4,
   "id": "35a546cb",
   "metadata": {},
   "outputs": [],
   "source": [
    "def increment_number(number: int) -> int:\n",
    "    \"\"\"将一个数字加1。\"\"\"\n",
    "    return number + 1"
   ]
  },
  {
   "cell_type": "code",
   "execution_count": 5,
   "id": "0306cd67",
   "metadata": {},
   "outputs": [],
   "source": [
    "looped_assistant = AssistantAgent(\n",
    "    name=\"looped_assistant\",\n",
    "    model_client=model_client,\n",
    "    reflect_on_tool_use=True,\n",
    "    tools=[increment_number],\n",
    "    system_message=\"你是一个有用的AI助手，使用工具来增加数字。\"\n",
    ")\n",
    "text_termination=TextMessageTermination(\"looped_assistant\")"
   ]
  },
  {
   "cell_type": "code",
   "execution_count": 6,
   "id": "e02e6066",
   "metadata": {},
   "outputs": [],
   "source": [
    "team = RoundRobinGroupChat([looped_assistant], termination_condition=text_termination)"
   ]
  },
  {
   "cell_type": "code",
   "execution_count": 7,
   "id": "5a62d49d",
   "metadata": {},
   "outputs": [
    {
     "name": "stdout",
     "output_type": "stream",
     "text": [
      "TextMessage source='user' models_usage=None metadata={} content='将数字5递增到10。' type='TextMessage'\n",
      "ToolCallRequestEvent source='looped_assistant' models_usage=RequestUsage(prompt_tokens=135, completion_tokens=96) metadata={} content=[FunctionCall(id='call_0_a84bd61c-e985-413c-ba91-a5cf7183e252', arguments='{\"number\": 5}', name='increment_number'), FunctionCall(id='call_1_9028fdc7-6723-48cc-823a-ecc595bdbf17', arguments='{\"number\": 6}', name='increment_number'), FunctionCall(id='call_2_59fd5dc4-6258-4b2b-b7ef-f643df20206b', arguments='{\"number\": 7}', name='increment_number'), FunctionCall(id='call_3_c12c4d83-8739-41c3-befb-207ede1b07df', arguments='{\"number\": 8}', name='increment_number'), FunctionCall(id='call_4_5677db08-42cc-47f7-9d74-f66f52e8db3e', arguments='{\"number\": 9}', name='increment_number')] type='ToolCallRequestEvent'\n",
      "ToolCallExecutionEvent source='looped_assistant' models_usage=None metadata={} content=[FunctionExecutionResult(content='6', name='increment_number', call_id='call_0_a84bd61c-e985-413c-ba91-a5cf7183e252', is_error=False), FunctionExecutionResult(content='7', name='increment_number', call_id='call_1_9028fdc7-6723-48cc-823a-ecc595bdbf17', is_error=False), FunctionExecutionResult(content='8', name='increment_number', call_id='call_2_59fd5dc4-6258-4b2b-b7ef-f643df20206b', is_error=False), FunctionExecutionResult(content='9', name='increment_number', call_id='call_3_c12c4d83-8739-41c3-befb-207ede1b07df', is_error=False), FunctionExecutionResult(content='10', name='increment_number', call_id='call_4_5677db08-42cc-47f7-9d74-f66f52e8db3e', is_error=False)] type='ToolCallExecutionEvent'\n",
      "TextMessage source='looped_assistant' models_usage=RequestUsage(prompt_tokens=140, completion_tokens=12) metadata={} content='数字5经过逐步递增后，最终的结果是10。' type='TextMessage'\n",
      "TaskResult messages=[TextMessage(source='user', models_usage=None, metadata={}, content='将数字5递增到10。', type='TextMessage'), ToolCallRequestEvent(source='looped_assistant', models_usage=RequestUsage(prompt_tokens=135, completion_tokens=96), metadata={}, content=[FunctionCall(id='call_0_a84bd61c-e985-413c-ba91-a5cf7183e252', arguments='{\"number\": 5}', name='increment_number'), FunctionCall(id='call_1_9028fdc7-6723-48cc-823a-ecc595bdbf17', arguments='{\"number\": 6}', name='increment_number'), FunctionCall(id='call_2_59fd5dc4-6258-4b2b-b7ef-f643df20206b', arguments='{\"number\": 7}', name='increment_number'), FunctionCall(id='call_3_c12c4d83-8739-41c3-befb-207ede1b07df', arguments='{\"number\": 8}', name='increment_number'), FunctionCall(id='call_4_5677db08-42cc-47f7-9d74-f66f52e8db3e', arguments='{\"number\": 9}', name='increment_number')], type='ToolCallRequestEvent'), ToolCallExecutionEvent(source='looped_assistant', models_usage=None, metadata={}, content=[FunctionExecutionResult(content='6', name='increment_number', call_id='call_0_a84bd61c-e985-413c-ba91-a5cf7183e252', is_error=False), FunctionExecutionResult(content='7', name='increment_number', call_id='call_1_9028fdc7-6723-48cc-823a-ecc595bdbf17', is_error=False), FunctionExecutionResult(content='8', name='increment_number', call_id='call_2_59fd5dc4-6258-4b2b-b7ef-f643df20206b', is_error=False), FunctionExecutionResult(content='9', name='increment_number', call_id='call_3_c12c4d83-8739-41c3-befb-207ede1b07df', is_error=False), FunctionExecutionResult(content='10', name='increment_number', call_id='call_4_5677db08-42cc-47f7-9d74-f66f52e8db3e', is_error=False)], type='ToolCallExecutionEvent'), TextMessage(source='looped_assistant', models_usage=RequestUsage(prompt_tokens=140, completion_tokens=12), metadata={}, content='数字5经过逐步递增后，最终的结果是10。', type='TextMessage')] stop_reason=\"Text message received from 'looped_assistant'\"\n"
     ]
    }
   ],
   "source": [
    "async for message in team.run_stream(task=\"将数字5递增到10。\"): \n",
    "    print(type(message).__name__, message)\n",
    "\n",
    "await model_client.close()"
   ]
  }
 ],
 "metadata": {
  "kernelspec": {
   "display_name": "Python 3",
   "language": "python",
   "name": "python3"
  },
  "language_info": {
   "codemirror_mode": {
    "name": "ipython",
    "version": 3
   },
   "file_extension": ".py",
   "mimetype": "text/x-python",
   "name": "python",
   "nbconvert_exporter": "python",
   "pygments_lexer": "ipython3",
   "version": "3.12.10"
  }
 },
 "nbformat": 4,
 "nbformat_minor": 5
}
